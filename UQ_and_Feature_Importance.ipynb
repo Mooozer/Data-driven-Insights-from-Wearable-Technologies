{
  "nbformat": 4,
  "nbformat_minor": 0,
  "metadata": {
    "colab": {
      "name": "UQ_and_Feature_Importance_(Frontiers_2022).ipynb",
      "provenance": [],
      "collapsed_sections": [],
      "toc_visible": true
    },
    "kernelspec": {
      "display_name": "Python 3",
      "name": "python3"
    },
    "language_info": {
      "codemirror_mode": {
        "name": "ipython",
        "version": 3
      },
      "file_extension": ".py",
      "mimetype": "text/x-python",
      "name": "python",
      "nbconvert_exporter": "python",
      "pygments_lexer": "ipython3",
      "version": "3.7.3"
    },
    "accelerator": "GPU"
  },
  "cells": [
    {
      "cell_type": "markdown",
      "metadata": {
        "id": "Bm3qAE2fc66L"
      },
      "source": [
        "## Prepare"
      ]
    },
    {
      "cell_type": "code",
      "metadata": {
        "colab": {
          "base_uri": "https://localhost:8080/"
        },
        "id": "ZzNP6EPA7gmu",
        "outputId": "2d994ea4-f808-4623-8022-5c672c966e80"
      },
      "source": [
        "#coutils package\n",
        "!pip install git+https://github.com/Mooozer/starterCode_-fromJohnson\n",
        "import coutils\n",
        "from coutils import fix_random_seed"
      ],
      "execution_count": null,
      "outputs": [
        {
          "output_type": "stream",
          "name": "stdout",
          "text": [
            "Collecting git+https://github.com/Mooozer/starterCode_-fromJohnson\n",
            "  Cloning https://github.com/Mooozer/starterCode_-fromJohnson to /tmp/pip-req-build-o3pjwjbo\n",
            "  Running command git clone -q https://github.com/Mooozer/starterCode_-fromJohnson /tmp/pip-req-build-o3pjwjbo\n",
            "Requirement already satisfied: pydrive in /usr/local/lib/python3.7/dist-packages (from Colab-Utils==0.1.dev0) (1.3.1)\n",
            "Requirement already satisfied: google-api-python-client>=1.2 in /usr/local/lib/python3.7/dist-packages (from pydrive->Colab-Utils==0.1.dev0) (1.12.8)\n",
            "Requirement already satisfied: PyYAML>=3.0 in /usr/local/lib/python3.7/dist-packages (from pydrive->Colab-Utils==0.1.dev0) (3.13)\n",
            "Requirement already satisfied: oauth2client>=4.0.0 in /usr/local/lib/python3.7/dist-packages (from pydrive->Colab-Utils==0.1.dev0) (4.1.3)\n",
            "Requirement already satisfied: uritemplate<4dev,>=3.0.0 in /usr/local/lib/python3.7/dist-packages (from google-api-python-client>=1.2->pydrive->Colab-Utils==0.1.dev0) (3.0.1)\n",
            "Requirement already satisfied: google-api-core<2dev,>=1.21.0 in /usr/local/lib/python3.7/dist-packages (from google-api-python-client>=1.2->pydrive->Colab-Utils==0.1.dev0) (1.26.3)\n",
            "Requirement already satisfied: google-auth>=1.16.0 in /usr/local/lib/python3.7/dist-packages (from google-api-python-client>=1.2->pydrive->Colab-Utils==0.1.dev0) (1.35.0)\n",
            "Requirement already satisfied: google-auth-httplib2>=0.0.3 in /usr/local/lib/python3.7/dist-packages (from google-api-python-client>=1.2->pydrive->Colab-Utils==0.1.dev0) (0.0.4)\n",
            "Requirement already satisfied: httplib2<1dev,>=0.15.0 in /usr/local/lib/python3.7/dist-packages (from google-api-python-client>=1.2->pydrive->Colab-Utils==0.1.dev0) (0.17.4)\n",
            "Requirement already satisfied: six<2dev,>=1.13.0 in /usr/local/lib/python3.7/dist-packages (from google-api-python-client>=1.2->pydrive->Colab-Utils==0.1.dev0) (1.15.0)\n",
            "Requirement already satisfied: requests<3.0.0dev,>=2.18.0 in /usr/local/lib/python3.7/dist-packages (from google-api-core<2dev,>=1.21.0->google-api-python-client>=1.2->pydrive->Colab-Utils==0.1.dev0) (2.23.0)\n",
            "Requirement already satisfied: googleapis-common-protos<2.0dev,>=1.6.0 in /usr/local/lib/python3.7/dist-packages (from google-api-core<2dev,>=1.21.0->google-api-python-client>=1.2->pydrive->Colab-Utils==0.1.dev0) (1.53.0)\n",
            "Requirement already satisfied: setuptools>=40.3.0 in /usr/local/lib/python3.7/dist-packages (from google-api-core<2dev,>=1.21.0->google-api-python-client>=1.2->pydrive->Colab-Utils==0.1.dev0) (57.4.0)\n",
            "Requirement already satisfied: pytz in /usr/local/lib/python3.7/dist-packages (from google-api-core<2dev,>=1.21.0->google-api-python-client>=1.2->pydrive->Colab-Utils==0.1.dev0) (2018.9)\n",
            "Requirement already satisfied: protobuf>=3.12.0 in /usr/local/lib/python3.7/dist-packages (from google-api-core<2dev,>=1.21.0->google-api-python-client>=1.2->pydrive->Colab-Utils==0.1.dev0) (3.17.3)\n",
            "Requirement already satisfied: packaging>=14.3 in /usr/local/lib/python3.7/dist-packages (from google-api-core<2dev,>=1.21.0->google-api-python-client>=1.2->pydrive->Colab-Utils==0.1.dev0) (21.3)\n",
            "Requirement already satisfied: cachetools<5.0,>=2.0.0 in /usr/local/lib/python3.7/dist-packages (from google-auth>=1.16.0->google-api-python-client>=1.2->pydrive->Colab-Utils==0.1.dev0) (4.2.4)\n",
            "Requirement already satisfied: pyasn1-modules>=0.2.1 in /usr/local/lib/python3.7/dist-packages (from google-auth>=1.16.0->google-api-python-client>=1.2->pydrive->Colab-Utils==0.1.dev0) (0.2.8)\n",
            "Requirement already satisfied: rsa<5,>=3.1.4 in /usr/local/lib/python3.7/dist-packages (from google-auth>=1.16.0->google-api-python-client>=1.2->pydrive->Colab-Utils==0.1.dev0) (4.8)\n",
            "Requirement already satisfied: pyasn1>=0.1.7 in /usr/local/lib/python3.7/dist-packages (from oauth2client>=4.0.0->pydrive->Colab-Utils==0.1.dev0) (0.4.8)\n",
            "Requirement already satisfied: pyparsing!=3.0.5,>=2.0.2 in /usr/local/lib/python3.7/dist-packages (from packaging>=14.3->google-api-core<2dev,>=1.21.0->google-api-python-client>=1.2->pydrive->Colab-Utils==0.1.dev0) (3.0.6)\n",
            "Requirement already satisfied: chardet<4,>=3.0.2 in /usr/local/lib/python3.7/dist-packages (from requests<3.0.0dev,>=2.18.0->google-api-core<2dev,>=1.21.0->google-api-python-client>=1.2->pydrive->Colab-Utils==0.1.dev0) (3.0.4)\n",
            "Requirement already satisfied: certifi>=2017.4.17 in /usr/local/lib/python3.7/dist-packages (from requests<3.0.0dev,>=2.18.0->google-api-core<2dev,>=1.21.0->google-api-python-client>=1.2->pydrive->Colab-Utils==0.1.dev0) (2021.10.8)\n",
            "Requirement already satisfied: idna<3,>=2.5 in /usr/local/lib/python3.7/dist-packages (from requests<3.0.0dev,>=2.18.0->google-api-core<2dev,>=1.21.0->google-api-python-client>=1.2->pydrive->Colab-Utils==0.1.dev0) (2.10)\n",
            "Requirement already satisfied: urllib3!=1.25.0,!=1.25.1,<1.26,>=1.21.1 in /usr/local/lib/python3.7/dist-packages (from requests<3.0.0dev,>=2.18.0->google-api-core<2dev,>=1.21.0->google-api-python-client>=1.2->pydrive->Colab-Utils==0.1.dev0) (1.24.3)\n",
            "Building wheels for collected packages: Colab-Utils\n",
            "  Building wheel for Colab-Utils (setup.py) ... \u001b[?25l\u001b[?25hdone\n",
            "  Created wheel for Colab-Utils: filename=Colab_Utils-0.1.dev0-py3-none-any.whl size=10307 sha256=38ef1d3cdf0513e80ecb04c2bf8cc0bb1768ad60661ad7af708265a5e0016e8e\n",
            "  Stored in directory: /tmp/pip-ephem-wheel-cache-x8hpyi_7/wheels/26/bc/a7/8262fb80fdb4423f53fd1042948b03aae3f09d1a69b16f3ec5\n",
            "Successfully built Colab-Utils\n",
            "Installing collected packages: Colab-Utils\n",
            "Successfully installed Colab-Utils-0.1.dev0\n"
          ]
        }
      ]
    },
    {
      "cell_type": "code",
      "metadata": {
        "colab": {
          "base_uri": "https://localhost:8080/"
        },
        "id": "Np8wfZGB7ggC",
        "outputId": "a68bd2e6-1530-4313-f7a8-45fb7dfd4f75"
      },
      "source": [
        "import numpy as np\n",
        "import pandas as pd\n",
        "from collections import OrderedDict\n",
        "import math\n",
        "import time\n",
        "\n",
        "import torch\n",
        "import torch.nn as nn\n",
        "import torch.nn.functional as F\n",
        "from torch.nn.parameter import Parameter\n",
        "import matplotlib.pyplot as plt\n",
        "import seaborn as sn\n",
        "\n",
        "if torch.cuda.is_available:\n",
        "  print('Good to go!')\n",
        "else:\n",
        "  print('Please set GPU via Edit -> Notebook Settings.')"
      ],
      "execution_count": null,
      "outputs": [
        {
          "output_type": "stream",
          "name": "stdout",
          "text": [
            "Good to go!\n"
          ]
        }
      ]
    },
    {
      "cell_type": "code",
      "metadata": {
        "id": "lvGDd2eyq7JI"
      },
      "source": [
        "# data type and device for torch.tensor\n",
        "to_float = {'dtype': torch.float, 'device': 'cpu'}\n",
        "to_float_cuda = {'dtype': torch.float, 'device': 'cuda'}\n",
        "to_double = {'dtype': torch.double, 'device': 'cpu'}\n",
        "to_double_cuda = {'dtype': torch.double, 'device': 'cuda'}\n",
        "to_long = {'dtype': torch.long, 'device': 'cpu'}\n",
        "to_long_cuda = {'dtype': torch.long, 'device': 'cuda'}"
      ],
      "execution_count": null,
      "outputs": []
    },
    {
      "cell_type": "markdown",
      "metadata": {
        "id": "VjXx-9vBdAC3"
      },
      "source": [
        "## Load Data"
      ]
    },
    {
      "cell_type": "code",
      "metadata": {
        "id": "cxHHRmhCh2-b"
      },
      "source": [
        "rrdata = pd.read_csv('rrdata.csv')\n",
        "data = pd.read_csv('merged_sur_hrv_hr.csv')\n",
        "onehot_time = pd.get_dummies(data.time_of_day, prefix='OneHot')\n",
        "data = data.drop(['time_of_day'], axis=1 )\n",
        "data = pd.concat([onehot_time, data],axis=1) "
      ],
      "execution_count": null,
      "outputs": []
    },
    {
      "cell_type": "code",
      "metadata": {
        "id": "kDypixH5V8DV"
      },
      "source": [
        "data1 = data[['OneHot_day', 'OneHot_evening','OneHot_morning','OneHot_night','bpm', 'meanrr', 'mxdmn', 'sdnn',\n",
        "       'rmssd', 'pnn50', 'mode', 'amo', 'lf', 'hf', 'vlf', 'lfhf',\n",
        "       'total_power', 'day_after_test', 'S_COVID_BREATH', 'S_COVID_CONFUSION',\n",
        "       'S_COVID_COUGH', 'S_COVID_FATIGUE', 'S_COVID_FEVER', 'S_COVID_PAIN',\n",
        "       'S_COVID_BLUISH', 'class4']] "
      ],
      "execution_count": null,
      "outputs": []
    },
    {
      "cell_type": "code",
      "source": [
        "from scipy.stats import iqr\n",
        "\n",
        "N, T, C= 1480, 100, 4\n",
        "\n",
        "##Point Features:\n",
        "rr_features = pd.DataFrame({'rr_var' : []}) \n",
        "#Variance: the average of the squared differences from the mean\n",
        "rr_features['rr_var'] = rrdata.drop(['user_code','time_of_day','S_COVID_OVERALL','day_after_test'],axis=1).var(axis=1)\n",
        "#Skewness, a measure of symmetry:\n",
        "rr_features['rr_skew'] = rrdata.drop(['user_code','time_of_day','S_COVID_OVERALL','day_after_test'],axis=1).skew(axis=1)\n",
        "#Kurtosis: How heavily the tails of a distribution differ from the tails of a normal distribution:\n",
        "rr_features['rr_kurt'] = rrdata.drop(['user_code','time_of_day','S_COVID_OVERALL','day_after_test'],axis=1).kurtosis(axis=1)\n",
        "#Max: \n",
        "rr_features['rr_max'] = rrdata.drop(['user_code','time_of_day','S_COVID_OVERALL','day_after_test'],axis=1).max(axis=1)\n",
        "#Min: \n",
        "rr_features['rr_min'] = rrdata.drop(['user_code','time_of_day','S_COVID_OVERALL','day_after_test'],axis=1).min(axis=1)\n",
        "#Median:\n",
        "rr_features['rr_median'] = rrdata.drop(['user_code','time_of_day','S_COVID_OVERALL','day_after_test'],axis=1).median(axis=1)\n",
        "#Interquartile range (IQR):  the difference between the 75th and 25th percentile of the data.\n",
        "rr_features['rr_IQR'] = iqr(rrdata.drop(['user_code','time_of_day','S_COVID_OVERALL','day_after_test'],axis=1),axis=1)\n",
        "\n",
        "ori_point_features = data1.drop(['class4'], axis=1) #original point features\n",
        "Pointdata = torch.tensor(pd.concat([ori_point_features, rr_features],axis=1).values).to(torch.float) #(1480, 25)\n",
        "Pointdata = (Pointdata-Pointdata.min(0, keepdim=True).values)/(Pointdata.max(0, keepdim=True).values - Pointdata.min(0, keepdim=True).values) #Rescale \n",
        "\n",
        "\n",
        "##Sequence Features:  \n",
        "#rr_diff: Difference\n",
        "rr_diff = rrdata.drop(['user_code','time_of_day','S_COVID_OVERALL','day_after_test'],axis=1).diff(periods=-1, axis=1)*(-1) \n",
        "rr_diff['rr99'] = 1/3*(rr_diff['rr98'] + rr_diff['rr97'] + rr_diff['rr96'])\n",
        "rr_diff_tensor = torch.tensor(rr_diff.values).to(torch.float)\n",
        "rr_diff_tensor = (rr_diff_tensor-rr_diff_tensor.min(0, keepdim=True).values)/(rr_diff_tensor.max(0, keepdim=True).values - rr_diff_tensor.min(0, keepdim=True).values) #Rescale \n",
        "rr_diff_tensor = rr_diff_tensor.reshape(N,T,1)\n",
        "#rr_AbsMeanDiff = Absolute Different from the mean:\n",
        "rr_AbsMeanDiff = rrdata.drop(['user_code','time_of_day','S_COVID_OVERALL','day_after_test'],axis=1)\n",
        "rr_AbsMeanDiff = abs(rr_AbsMeanDiff-rr_AbsMeanDiff.mean(0).values)\n",
        "rr_AbsMeanDiff_tensor = torch.tensor(rr_AbsMeanDiff.values).to(torch.float)\n",
        "rr_AbsMeanDiff_tensor = (rr_AbsMeanDiff_tensor-rr_AbsMeanDiff_tensor.min(0, keepdim=True).values)/(rr_AbsMeanDiff_tensor.max(0, keepdim=True).values - rr_AbsMeanDiff_tensor.min(0, keepdim=True).values) #Rescale \n",
        "rr_AbsMeanDiff_tensor = rr_AbsMeanDiff_tensor.reshape(N,T,1)\n",
        "#Original seq features\n",
        "rr = rrdata.drop(['user_code','time_of_day','S_COVID_OVERALL','day_after_test'],axis=1) #original seq features\n",
        "rr_tensor = torch.tensor(rr.values).to(torch.float)\n",
        "rr_tensor = (rr_tensor-rr_tensor.min(0, keepdim=True).values)/(rr_tensor.max(0, keepdim=True).values - rr_tensor.min(0, keepdim=True).values) #Rescale \n",
        "rr_tensor = rr_tensor.reshape(N,T,1)\n",
        "#Combine\n",
        "Seqdata = torch.cat((rr_tensor, rr_diff_tensor, rr_AbsMeanDiff_tensor), 2) #(1480, 100, 2)\n",
        "\n",
        "\n",
        "##Class label:  \n",
        "class_y = torch.tensor(data1['class4'].values)  #(N=1480, )\n",
        "\n",
        "print(\"Pointdata:\", Pointdata.shape, Pointdata.dtype)\n",
        "print(\"Seqdata:\", Seqdata.shape, Seqdata.dtype)\n",
        "print(\"class_y:\", class_y.shape, class_y.dtype)\n"
      ],
      "metadata": {
        "id": "_8zwRT2xneEU"
      },
      "execution_count": null,
      "outputs": []
    },
    {
      "cell_type": "code",
      "source": [
        "from sklearn.model_selection import train_test_split\n",
        "indices = list(ori_point_features.index)\n",
        "Pointdata_train, Pointdata_test, Seqdata_train, Seqdata_test, class_y_train, class_y_test ,indices_train ,indices_test = train_test_split(Pointdata, \n",
        "                                                                                                                                          Seqdata, \n",
        "                                                                                                                                          class_y, \n",
        "                                                                                                                                          indices, \n",
        "                                                                                                                                          test_size=0.2, \n",
        "                                                                                                                                          random_state=6)\n",
        "Pointdata_train, Pointdata_test = Pointdata_train.to(torch.float), Pointdata_test.to(torch.float)\n",
        "Seqdata_train, Seqdata_test = Seqdata_train.to(torch.float), Seqdata_test.to(torch.float)"
      ],
      "metadata": {
        "id": "URy06pf4DUJf"
      },
      "execution_count": null,
      "outputs": []
    },
    {
      "cell_type": "markdown",
      "metadata": {
        "id": "ouf7VmC-z_CU"
      },
      "source": [
        "## Uncertainty quantification of the model"
      ]
    },
    {
      "cell_type": "code",
      "metadata": {
        "id": "8JBqNQJU0YVq"
      },
      "source": [
        "def RNN_DNN_test_UQ(self, Pointdata, Seqdata):\n",
        "      \"\"\"\n",
        "      Inputs:\n",
        "      - Pointdata: (N, V) \n",
        "      - Seqdata: (N, T, D)\n",
        "\n",
        "      Outputs:\n",
        "      - scalar: classficition \n",
        "      \"\"\"\n",
        "\n",
        "      Pointdata = Pointdata.to(self.device)  #(N,V)\n",
        "      Seqdata = Seqdata.to(self.device)\n",
        "\n",
        "      #(1) h0\n",
        "      A0 = Seqdata[:,0,:].mm(self.Wx) #(N,4H)\n",
        "      h0 =  A0[:,0:self.H] + A0[:,self.H:2*self.H] + A0[:,2*self.H:3*self.H] + A0[:,3*self.H:4*self.H]\n",
        "\n",
        "      #(2) multi-state(hidden state)\n",
        "      if self.cell_type == 'lstm':\n",
        "        hidden_state = lstm_forward(Seqdata, h0, self.Wx, self.Wh, self.b, self.T)   #(N,T,H=1) \n",
        "      \n",
        "      N = Pointdata.shape[0]\n",
        "      H = self.H \n",
        "      T = self.T\n",
        "      \n",
        "      #(3) single state \n",
        "      single_state = hidden_state.reshape(N, T*H).mm(self.W_proj)+self.b_proj  #(N,P)  \n",
        "\n",
        "      #(4) DNN \n",
        "      DNNInput = torch.cat((Pointdata, single_state), 1)  #(N, V+P)\n",
        "      DNNhidden = DNNInput.mm(self.W_d1)+self.b_d1  \n",
        "      DNNhidden = torch.sigmoid(DNNhidden)\n",
        "      for i in range(2,len(self.DNN_hidden_Size)+1):\n",
        "        DNNhidden = DNNhidden.mm(eval('self.W_d'+str(i))) + eval('self.b_d'+str(i))\n",
        "        DNNhidden = F.leaky_relu(DNNhidden, negative_slope=0.01)  \n",
        "      DNNoutput = DNNhidden.mm(eval('self.W_d'+str(len(self.DNN_hidden_Size)+1))) + eval('self.b_d'+str(len(self.DNN_hidden_Size)+1))  \n",
        "\n",
        "      #(5)\n",
        "      pred_y = DNNoutput.argmax(dim=1)\n",
        "      pred_y_prob = F.softmax(DNNoutput, dim=1)\n",
        "      return pred_y, pred_y_prob\n",
        "\n",
        "RNN_DNN.UQ_test_process = RNN_DNN_test_UQ\n"
      ],
      "execution_count": null,
      "outputs": []
    },
    {
      "cell_type": "code",
      "metadata": {
        "id": "1zW1O7XA0gq-"
      },
      "source": [
        "#bootstrap sample\n",
        "import random\n",
        "train_size = 1184\n",
        "B=10*20 \n",
        "probB = torch.empty(1, 296, 4)  #initialize probability training set \n",
        "probB_train = torch.empty(1, 1184, 4)  #initialize probability test set\n",
        "\n",
        "for b in range(B):\n",
        "  print('------------------------- Bootstrip %s ------------------------'%(b) )\n",
        "  index_b = random.choices(range(Pointdata_train.shape[0]) , k=Pointdata_train.shape[0])\n",
        "  Pointdata_train_b = Pointdata_train[index_b]\n",
        "  Seqdata_train_b = Seqdata_train[index_b]\n",
        "  class_y_train_b = class_y_train[index_b]\n",
        "\n",
        "  num_epochs = 1400\n",
        "  batch_size = train_size \n",
        "  learning_rate = 1e-3\n",
        "  rnn_dnn_model_UQ = RNN_DNN( \n",
        "            cell_type='lstm',\n",
        "            input_dim = 3,     #Seqdata_train.shape[2]\n",
        "            input_dim_v = 32,  #Pointdata_train.shape[1],\n",
        "            input_dim_t= 20,   #Seqdata_train.shape[1], \n",
        "            proj_dim = 5,\n",
        "            C=4, \n",
        "            hidden_dim = 1, \n",
        "            reg = 0.0, \n",
        "            dropratio = 0.3, \n",
        "            DNN_hidden_Size=[1024, 1024, 2048, 1024, 1024], \n",
        "            **to_float_cuda)\n",
        "\n",
        "  print('learning rate is: ', learning_rate)\n",
        "  ModelTrain(rnn_dnn_model_UQ, Pointdata_train_b, Seqdata_train_b, class_y_train_b,\n",
        "                  num_epochs=num_epochs, batch_size=batch_size,\n",
        "                  learning_rate=learning_rate)\n",
        "\n",
        "  rnn_dnn_model_UQ = rnn_dnn_model_UQ.eval()  \n",
        "  y_pred_train_b, y_pred_prob_train_b = rnn_dnn_model_UQ.UQ_test_process(Pointdata_train_b, Seqdata_train_b)\n",
        "  y_pred_train_b, y_pred_prob_train_b = y_pred_train_b.to('cpu'), y_pred_prob_train_b.to('cpu')\n",
        "  y_pred_b, y_pred_prob_b = rnn_dnn_model_UQ.UQ_test_process(Pointdata_test, Seqdata_test)\n",
        "  y_pred_b, y_pred_prob_b = y_pred_b.to('cpu'), y_pred_prob_b.to('cpu')\n",
        "\n",
        "  probB = torch.cat([probB, y_pred_prob_b.data.reshape(1,296,4)], dim = 0)\n",
        "  probB_train = torch.cat([probB_train, y_pred_prob_train_b.data.reshape(1,1184,4)], dim=0)\n",
        "\n",
        "probB = probB[1:,:,:]  # remove the initialized prob\n",
        "probB_train = probB_train[1:,:,:] # remove the initialized prob"
      ],
      "execution_count": null,
      "outputs": []
    },
    {
      "cell_type": "code",
      "metadata": {
        "id": "0g2HVoj10gkn"
      },
      "source": [
        "probB_all = torch.load('BSProb.pt')"
      ],
      "execution_count": null,
      "outputs": []
    },
    {
      "cell_type": "code",
      "metadata": {
        "id": "LibxfCJm0ggU",
        "colab": {
          "base_uri": "https://localhost:8080/",
          "height": 280
        },
        "outputId": "566575f2-4842-4a51-c1f2-a886de0f20bd"
      },
      "source": [
        "import seaborn as sn\n",
        "import random\n",
        "random.seed(6)\n",
        "stageCode= ['Mild','Moderate','Severe','Recovered']\n",
        "fig=plt.figure(figsize=(24,4))\n",
        "columns = 4\n",
        "rows = 1\n",
        "indexs = [251,110,29,182]\n",
        "patientCode = rrdata.loc[indices_test].iloc[indexs]['user_code'].tolist()\n",
        "\n",
        "for i in range(4):\n",
        "  #index = (class_y_test == i).nonzero().reshape(-1).tolist()\n",
        "  #indexi = random.choice(index)\n",
        "  indexi = indexs[i]\n",
        "  codei = patientCode[i]\n",
        "  pd_probB = pd.DataFrame(probB_all[:,indexi,:].reshape(-1,4).numpy())\n",
        "  pd_probB = pd_probB.rename(columns={0: \"Mild\", 1: \"Moderate\", 2:\"Severe\", 3:\"Recovered\"})\n",
        "  pd_probB = pd_probB.melt(var_name=\"Stages\", value_name=\"Probability\")\n",
        " \n",
        "  fig.add_subplot(rows, columns, i+1)\n",
        "  ax = sn.boxplot(x=\"Stages\", y=\"Probability\", data=pd_probB, whis=[2.5, 97.5], linewidth=2,  palette=\"Set3\")\n",
        "  plt.title('Patient#%s with %s'%(codei, stageCode[i]), fontsize=16)\n",
        "  plt.ylabel(\"Probability\") \n",
        "plt.show()\n"
      ],
      "execution_count": null,
      "outputs": [
        {
          "output_type": "display_data",
          "data": {
            "image/png": "[encoded data removed]",
            "text/plain": [
              "<Figure size 1728x288 with 4 Axes>"
            ]
          },
          "metadata": {
            "tags": []
          }
        }
      ]
    },
    {
      "cell_type": "markdown",
      "metadata": {
        "id": "V0UIchrw6-KN"
      },
      "source": [
        "## Permutation Feature Importance for each class (time-consuming)\n",
        "\n"
      ]
    },
    {
      "cell_type": "markdown",
      "source": [
        "### full model"
      ],
      "metadata": {
        "id": "GbN64l_IBUK3"
      }
    },
    {
      "cell_type": "code",
      "source": [
        "num_epochs = 1400\n",
        "batch_size = 1184 \n",
        "\n",
        "# create the RNN_DNN model\n",
        "rnn_dnn_model = RNN_DNN(\n",
        "          cell_type='lstm',\n",
        "          input_dim = 3,  #3,     #Seqdata_train.shape[2],  \n",
        "          input_dim_v = 32, #32,  #Pointdata_train.shape[1], if only consider LSTM, then, 0 \n",
        "          input_dim_t= 20, #20,   #Seqdata_train.shape[1], \n",
        "          proj_dim = 0, #5,   #if only consider DNN, then, 0 \n",
        "          C=4, \n",
        "          hidden_dim = 1, \n",
        "          reg = 0.0, \n",
        "          dropratio = 0.3, \n",
        "          #DNN_hidden_Size=[256, 1024, 2048, 1024, 512],  #str11\n",
        "          DNN_hidden_Size=[1024, 1024, 2048, 1024, 1024], \n",
        "          **to_float_cuda)\n",
        "\n",
        "for learning_rate in [1e-3]:\n",
        "  print('learning rate is: ', learning_rate)\n",
        "  ModelTrain(rnn_dnn_model, Pointdata_train, Seqdata_train, class_y_train,\n",
        "                num_epochs=num_epochs, batch_size=batch_size,\n",
        "                learning_rate=learning_rate)"
      ],
      "metadata": {
        "id": "Bjz7B4YvBTIu"
      },
      "execution_count": null,
      "outputs": []
    },
    {
      "cell_type": "code",
      "source": [
        "rnn_dnn_model = rnn_dnn_model.eval()  \n",
        "y_pred_train, loss_train = rnn_dnn_model.test_process(Pointdata_train, Seqdata_train, class_y_train )\n",
        "y_pred_train, loss_trainfull = y_pred_train.to('cpu') , loss_train.item()\n",
        "\n",
        "y_pred, loss_test= rnn_dnn_model.test_process(Pointdata_test, Seqdata_test, class_y_test)\n",
        "y_pred, loss_testfull = y_pred.to('cpu'), loss_test.item()\n",
        "y_pred"
      ],
      "metadata": {
        "id": "RrI5eQb_B344"
      },
      "execution_count": null,
      "outputs": []
    },
    {
      "cell_type": "code",
      "source": [
        "from sklearn.metrics import classification_report, confusion_matrix\n",
        "from sklearn.metrics import roc_auc_score\n",
        "from tensorflow.keras.utils import to_categorical\n",
        "auc_score4full = roc_auc_score(to_categorical(class_y_test), to_categorical(y_pred), multi_class=\"ovo\", average=None)\n",
        "auc0full,auc1full,auc2full,auc3full = auc_score4full[0], auc_score4full[1], auc_score4full[2], auc_score4full[3], \n",
        "reportfull =  classification_report(class_y_test, y_pred, output_dict=True )\n",
        "f1_0full,f1_1full,f1_2full,f1_3full = reportfull['0']['f1-score'],reportfull['1']['f1-score'],reportfull['2']['f1-score'],reportfull['3']['f1-score']\n",
        "pre0full,pre1full,pre2full,pre3full = reportfull['0']['precision'],reportfull['1']['precision'],reportfull['2']['precision'],reportfull['3']['precision']"
      ],
      "metadata": {
        "id": "E52tZZyXBviT"
      },
      "execution_count": null,
      "outputs": []
    },
    {
      "cell_type": "markdown",
      "source": [
        "### Feature Importance for each class"
      ],
      "metadata": {
        "id": "1pB1P3gsCMCr"
      }
    },
    {
      "cell_type": "code",
      "metadata": {
        "id": "EPLdImFJ4pNo"
      },
      "source": [
        "pointFeatures = pd.concat([ori_point_features, rr_features],axis=1).columns\n",
        "seqFeatures = ['rr','rr_diff','rr_AbsMeanDiff'] \n",
        "FeaImpResult4 = pd.DataFrame({'auc0' : [], 'auc1' : [], 'auc2': [],'auc3' : [], \n",
        "                             'f1_0' : [], 'f1_1' : [], 'f1_2': [], 'f1_3': [],\n",
        "                             'pre_0':[],  'pre_1':[], 'pre_2':[], 'pre_3':[],}) "
      ],
      "execution_count": null,
      "outputs": []
    },
    {
      "cell_type": "code",
      "metadata": {
        "id": "wPak9M-39Bdb"
      },
      "source": [
        "# For Point data \n",
        "from sklearn.metrics import roc_auc_score\n",
        "from keras.utils import to_categorical\n",
        "\n",
        "for i in range(len(pointFeatures)):\n",
        "  print('------------------------- Permutation Variable %s ------------------------'%(pointFeatures[i]) )\n",
        "  num_epochs = 1400\n",
        "  batch_size = 1184 \n",
        "  learning_rate = 1e-3\n",
        "  # create the RNN_DNN model\n",
        "  rnn_dnn_model_FI = RNN_DNN(\n",
        "            cell_type='lstm',\n",
        "            input_dim = 3,     #Seqdata_train.shape[2]\n",
        "            input_dim_v = 32-1,  #Pointdata_train.shape[1],\n",
        "            input_dim_t= 20,   #Seqdata_train.shape[1], \n",
        "            proj_dim = 5,\n",
        "            C=4, \n",
        "            hidden_dim = 1, \n",
        "            reg = 0.0, \n",
        "            dropratio = 0.3, \n",
        "            DNN_hidden_Size=[1024, 1024, 2048, 1024, 1024], \n",
        "            **to_float_cuda)\n",
        "\n",
        "  Pointdata_train_permu = torch.cat([Pointdata_train[:, 0:i], Pointdata_train[:, (i+1):]],dim=1)\n",
        "  Pointdata_test_permu = torch.cat([Pointdata_test[:, 0:i], Pointdata_test[:, (i+1):]],dim=1)\n",
        "\n",
        "  ModelTrain(rnn_dnn_model_FI, Pointdata_train_permu, Seqdata_train, class_y_train,\n",
        "                num_epochs=num_epochs, batch_size=batch_size,\n",
        "                learning_rate=learning_rate)\n",
        "                \n",
        "  rnn_dnn_model_FI = rnn_dnn_model_FI.eval()  \n",
        "  y_pred_train, loss_traini = rnn_dnn_model_FI.test_process(Pointdata_train_permu, Seqdata_train, class_y_train)\n",
        "  y_pred_train, loss_traini = y_pred_train.to('cpu'), loss_traini.item()\n",
        "  y_pred, loss_testi= rnn_dnn_model_FI.test_process(Pointdata_test_permu, Seqdata_test, class_y_test)\n",
        "  y_pred, loss_testi= y_pred.to('cpu'), loss_testi.item()\n",
        "  \n",
        "  auc4 =  roc_auc_score(to_categorical(class_y_test), to_categorical(y_pred), multi_class=\"ovo\", average=None)\n",
        "  report =  classification_report(class_y_test, y_pred, output_dict=True )\n",
        "  f1_0,f1_1,f1_2,f1_3 = report['0']['f1-score'],report['1']['f1-score'],report['2']['f1-score'],report['3']['f1-score']\n",
        "  pre_0,pre_1,pre_2,pre_3 = report['0']['precision'],report['1']['precision'],report['2']['precision'],report['3']['precision']\n",
        "  FeaImpResult4.loc[pointFeatures[i]] = [auc4[0],auc4[1],auc4[2],auc4[3], f1_0,f1_1,f1_2,f1_3, pre_0,pre_1,pre_2,pre_3]\n",
        "\n",
        "# For sequence data\n",
        "for i in range(len(seqFeatures)):\n",
        "  print('------------------------- Permutation Variable %s ------------------------'%(seqFeatures[i]) )\n",
        "  num_epochs = 1400\n",
        "  batch_size = 1184 \n",
        "  learning_rate = 1e-3\n",
        "  # create the RNN_DNN model\n",
        "  rnn_dnn_model_FI = RNN_DNN(\n",
        "            cell_type='lstm',\n",
        "            input_dim = 3-1,     #Seqdata_train.shape[2]\n",
        "            input_dim_v = 32,  #Pointdata_train.shape[1],\n",
        "            input_dim_t= 20,   #Seqdata_train.shape[1], \n",
        "            proj_dim = 5,\n",
        "            C=4, \n",
        "            hidden_dim = 1, \n",
        "            reg = 0.0, \n",
        "            dropratio = 0.3, \n",
        "            DNN_hidden_Size=[1024, 1024, 2048, 1024, 1024], \n",
        "            **to_float_cuda)\n",
        "  Seqdata_train_permu = torch.cat([Seqdata_train[:, :, 0:i], Seqdata_train[:,:, (i+1):]],dim=2)\n",
        "  Seqdata_test_permu = torch.cat([Seqdata_test[:, :, 0:i], Seqdata_test[:,:, (i+1):]],dim=2)\n",
        "\n",
        "  ModelTrain(rnn_dnn_model_FI, Pointdata_train, Seqdata_train_permu, class_y_train,\n",
        "                num_epochs=num_epochs, batch_size=batch_size,\n",
        "                learning_rate=learning_rate)\n",
        "  \n",
        "  rnn_dnn_model_FI = rnn_dnn_model_FI.eval()  \n",
        "  y_pred_train, loss_traini = rnn_dnn_model_FI.test_process(Pointdata_train, Seqdata_train_permu, class_y_train)\n",
        "  y_pred_train, loss_traini = y_pred_train.to('cpu'), loss_traini.item()\n",
        "  y_pred, loss_testi= rnn_dnn_model_FI.test_process(Pointdata_test, Seqdata_test_permu, class_y_test)\n",
        "  y_pred, loss_testi= y_pred.to('cpu'), loss_testi.item()  \n",
        "  \n",
        "  auc4 =  roc_auc_score(to_categorical(class_y_test), to_categorical(y_pred), multi_class=\"ovo\", average=None)\n",
        "  report =  classification_report(class_y_test, y_pred, output_dict=True )\n",
        "  f1_0,f1_1,f1_2,f1_3 = report['0']['f1-score'],report['1']['f1-score'],report['2']['f1-score'],report['3']['f1-score']\n",
        "  pre_0,pre_1,pre_2,pre_3 = report['0']['precision'],report['1']['precision'],report['2']['precision'],report['3']['precision']\n",
        "  FeaImpResult4.loc[seqFeatures[i]] = [auc4[0],auc4[1],auc4[2],auc4[3], f1_0,f1_1,f1_2,f1_3, pre_0,pre_1,pre_2,pre_3]\n",
        "  \n",
        "torch.save(FeaImpResult4, 'FeaImpResult4.pt')"
      ],
      "execution_count": null,
      "outputs": []
    },
    {
      "cell_type": "code",
      "metadata": {
        "colab": {
          "base_uri": "https://localhost:8080/",
          "height": 17
        },
        "id": "m5vcQ7oU_Emj",
        "outputId": "5e2591ae-7056-40cf-fb32-ecc14ead912c"
      },
      "source": [
        "#add full-data model's result\n",
        "FeaImpResult4.loc['FullData'] = [auc0full, auc1full, auc2full, auc3full,f1_0full,f1_1full,f1_2full,f1_3full,pre0full,pre1full,pre2full,pre3full ]"
      ],
      "execution_count": null,
      "outputs": [
        {
          "output_type": "display_data",
          "data": {
            "application/javascript": [
              "\n",
              "    async function download(id, filename, size) {\n",
              "      if (!google.colab.kernel.accessAllowed) {\n",
              "        return;\n",
              "      }\n",
              "      const div = document.createElement('div');\n",
              "      const label = document.createElement('label');\n",
              "      label.textContent = `Downloading \"${filename}\": `;\n",
              "      div.appendChild(label);\n",
              "      const progress = document.createElement('progress');\n",
              "      progress.max = size;\n",
              "      div.appendChild(progress);\n",
              "      document.body.appendChild(div);\n",
              "\n",
              "      const buffers = [];\n",
              "      let downloaded = 0;\n",
              "\n",
              "      const channel = await google.colab.kernel.comms.open(id);\n",
              "      // Send a message to notify the kernel that we're ready.\n",
              "      channel.send({})\n",
              "\n",
              "      for await (const message of channel.messages) {\n",
              "        // Send a message to notify the kernel that we're ready.\n",
              "        channel.send({})\n",
              "        if (message.buffers) {\n",
              "          for (const buffer of message.buffers) {\n",
              "            buffers.push(buffer);\n",
              "            downloaded += buffer.byteLength;\n",
              "            progress.value = downloaded;\n",
              "          }\n",
              "        }\n",
              "      }\n",
              "      const blob = new Blob(buffers, {type: 'application/binary'});\n",
              "      const a = document.createElement('a');\n",
              "      a.href = window.URL.createObjectURL(blob);\n",
              "      a.download = filename;\n",
              "      div.appendChild(a);\n",
              "      a.click();\n",
              "      div.remove();\n",
              "    }\n",
              "  "
            ],
            "text/plain": [
              "<IPython.core.display.Javascript object>"
            ]
          },
          "metadata": {
            "tags": []
          }
        },
        {
          "output_type": "display_data",
          "data": {
            "application/javascript": [
              "download(\"download_ed697905-4f92-4cd6-8aba-71682e40ccd2\", \"FeaImpResult4.pt\", 6703)"
            ],
            "text/plain": [
              "<IPython.core.display.Javascript object>"
            ]
          },
          "metadata": {
            "tags": []
          }
        }
      ]
    },
    {
      "cell_type": "markdown",
      "metadata": {
        "id": "YStTjSGA0XJo"
      },
      "source": [
        "### Plot "
      ]
    },
    {
      "cell_type": "code",
      "metadata": {
        "id": "o-4BKTU1OxO1"
      },
      "source": [
        "import pandas as pd\n",
        "import numpy as np\n",
        "from sklearn.model_selection import train_test_split\n",
        "from sklearn.model_selection import StratifiedKFold\n",
        "from sklearn.impute import SimpleImputer\n",
        "from sklearn.preprocessing import StandardScaler\n",
        "from sklearn.pipeline import Pipeline\n",
        "from sklearn.linear_model import LogisticRegression\n",
        "from sklearn.ensemble import RandomForestClassifier\n",
        "from sklearn.model_selection import GridSearchCV\n",
        "import plotly.express as px"
      ],
      "execution_count": null,
      "outputs": []
    },
    {
      "cell_type": "code",
      "metadata": {
        "id": "uraA5mYDOxMW"
      },
      "source": [
        "result=pd.read_csv(r\"/content/FeaImpResult4.csv\")\n",
        "result = result.drop([0,1,2,3,18,19,20,21,22,23,24])\n",
        "result_auc=result.iloc[:, 1:5]\n",
        "FI = result_auc.iloc[-1] - result_auc\n",
        "FI = FI.drop([32])"
      ],
      "execution_count": null,
      "outputs": []
    },
    {
      "cell_type": "code",
      "metadata": {
        "colab": {
          "base_uri": "https://localhost:8080/",
          "height": 1000
        },
        "id": "xempM5IJOxJC",
        "outputId": "67256616-d98b-450e-8dd2-e7e1e9948153"
      },
      "source": [
        "titlename = ['Mild','Moderate','Severe','Recovery']\n",
        "for i in range(4):\n",
        "  FI_temp=FI.iloc[:,i]-FI.iloc[:,i].min()\n",
        "  FI_trans=FI_temp/FI_temp.max()\n",
        "\n",
        "  d = {'Factors':result.iloc[:,0][:-1],'FI':FI_trans}\n",
        "  df = pd.DataFrame(d)\n",
        "  df = df.sort_values(by='FI', ascending=0)\n",
        "  fig = px.bar_polar(df, r=\"FI\", theta=\"Factors\",\n",
        "                    color=\"Factors\", template=\"seaborn\", \n",
        "                    color_discrete_sequence= px.colors.sequential.Plasma_r)\n",
        "  fig.update_layout(title=titlename[i] )\n",
        "  fig.show()"
      ],
      "execution_count": null,
      "outputs": [
        {
          "output_type": "display_data",
          "data": {
            "text/html": [
              "<html>\n",
              "<head><meta charset=\"utf-8\" /></head>\n",
              "<body>\n",
              "    <div>\n",
              "            <script src=\"https://cdnjs.cloudflare.com/ajax/libs/mathjax/2.7.5/MathJax.js?config=TeX-AMS-MML_SVG\"></script><script type=\"text/javascript\">if (window.MathJax) {MathJax.Hub.Config({SVG: {font: \"STIX-Web\"}});}</script>\n",
              "                <script type=\"text/javascript\">window.PlotlyConfig = {MathJaxConfig: 'local'};</script>\n",
              "        <script src=\"https://cdn.plot.ly/plotly-latest.min.js\"></script>    \n",
              "            <div id=\"ebb7874d-132e-49c7-9f3a-e20c6113f143\" class=\"plotly-graph-div\" style=\"height:525px; width:100%;\"></div>\n",
              "            <script type=\"text/javascript\">\n",
              "                \n",
              "                    window.PLOTLYENV=window.PLOTLYENV || {};\n",
              "                    \n",
              "                if (document.getElementById(\"ebb7874d-132e-49c7-9f3a-e20c6113f143\")) {\n",
              "                    Plotly.newPlot(\n",
              "                        'ebb7874d-132e-49c7-9f3a-e20c6113f143',\n",
              "                        [{\"hoverlabel\": {\"namelength\": 0}, \"hovertemplate\": \"Factors=%{theta}<br>FI=%{r}\", \"legendgroup\": \"Factors=day_after_test\", \"marker\": {\"color\": \"#f0f921\"}, \"name\": \"Factors=day_after_test\", \"r\": [1.0], \"showlegend\": true, \"subplot\": \"polar\", \"theta\": [\"day_after_test\"], \"type\": \"barpolar\"}, {\"hoverlabel\": {\"namelength\": 0}, \"hovertemplate\": \"Factors=%{theta}<br>FI=%{r}\", \"legendgroup\": \"Factors=rr_kurt\", \"marker\": {\"color\": \"#fdca26\"}, \"name\": \"Factors=rr_kurt\", \"r\": [0.6284889316650625], \"showlegend\": true, \"subplot\": \"polar\", \"theta\": [\"rr_kurt\"], \"type\": \"barpolar\"}, {\"hoverlabel\": {\"namelength\": 0}, \"hovertemplate\": \"Factors=%{theta}<br>FI=%{r}\", \"legendgroup\": \"Factors=total_power\", \"marker\": {\"color\": \"#fb9f3a\"}, \"name\": \"Factors=total_power\", \"r\": [0.5279114533205009], \"showlegend\": true, \"subplot\": \"polar\", \"theta\": [\"total_power\"], \"type\": \"barpolar\"}, {\"hoverlabel\": {\"namelength\": 0}, \"hovertemplate\": \"Factors=%{theta}<br>FI=%{r}\", \"legendgroup\": \"Factors=rr_max\", \"marker\": {\"color\": \"#ed7953\"}, \"name\": \"Factors=rr_max\", \"r\": [0.5139557266602507], \"showlegend\": true, \"subplot\": \"polar\", \"theta\": [\"rr_max\"], \"type\": \"barpolar\"}, {\"hoverlabel\": {\"namelength\": 0}, \"hovertemplate\": \"Factors=%{theta}<br>FI=%{r}\", \"legendgroup\": \"Factors=mode\", \"marker\": {\"color\": \"#d8576b\"}, \"name\": \"Factors=mode\", \"r\": [0.5000000000000004], \"showlegend\": true, \"subplot\": \"polar\", \"theta\": [\"mode\"], \"type\": \"barpolar\"}, {\"hoverlabel\": {\"namelength\": 0}, \"hovertemplate\": \"Factors=%{theta}<br>FI=%{r}\", \"legendgroup\": \"Factors=rr_median\", \"marker\": {\"color\": \"#bd3786\"}, \"name\": \"Factors=rr_median\", \"r\": [0.3854667949951878], \"showlegend\": true, \"subplot\": \"polar\", \"theta\": [\"rr_median\"], \"type\": \"barpolar\"}, {\"hoverlabel\": {\"namelength\": 0}, \"hovertemplate\": \"Factors=%{theta}<br>FI=%{r}\", \"legendgroup\": \"Factors=rmssd\", \"marker\": {\"color\": \"#9c179e\"}, \"name\": \"Factors=rmssd\", \"r\": [0.3854667949951878], \"showlegend\": true, \"subplot\": \"polar\", \"theta\": [\"rmssd\"], \"type\": \"barpolar\"}, {\"hoverlabel\": {\"namelength\": 0}, \"hovertemplate\": \"Factors=%{theta}<br>FI=%{r}\", \"legendgroup\": \"Factors=pnn50\", \"marker\": {\"color\": \"#7201a8\"}, \"name\": \"Factors=pnn50\", \"r\": [0.3854667949951878], \"showlegend\": true, \"subplot\": \"polar\", \"theta\": [\"pnn50\"], \"type\": \"barpolar\"}, {\"hoverlabel\": {\"namelength\": 0}, \"hovertemplate\": \"Factors=%{theta}<br>FI=%{r}\", \"legendgroup\": \"Factors=rr_IQR\", \"marker\": {\"color\": \"#46039f\"}, \"name\": \"Factors=rr_IQR\", \"r\": [0.3715110683349375], \"showlegend\": true, \"subplot\": \"polar\", \"theta\": [\"rr_IQR\"], \"type\": \"barpolar\"}, {\"hoverlabel\": {\"namelength\": 0}, \"hovertemplate\": \"Factors=%{theta}<br>FI=%{r}\", \"legendgroup\": \"Factors=hf\", \"marker\": {\"color\": \"#0d0887\"}, \"name\": \"Factors=hf\", \"r\": [0.3715110683349375], \"showlegend\": true, \"subplot\": \"polar\", \"theta\": [\"hf\"], \"type\": \"barpolar\"}, {\"hoverlabel\": {\"namelength\": 0}, \"hovertemplate\": \"Factors=%{theta}<br>FI=%{r}\", \"legendgroup\": \"Factors=rr_min\", \"marker\": {\"color\": \"#f0f921\"}, \"name\": \"Factors=rr_min\", \"r\": [0.28488931665062633], \"showlegend\": true, \"subplot\": \"polar\", \"theta\": [\"rr_min\"], \"type\": \"barpolar\"}, {\"hoverlabel\": {\"namelength\": 0}, \"hovertemplate\": \"Factors=%{theta}<br>FI=%{r}\", \"legendgroup\": \"Factors=bpm\", \"marker\": {\"color\": \"#fdca26\"}, \"name\": \"Factors=bpm\", \"r\": [0.28488931665062633], \"showlegend\": true, \"subplot\": \"polar\", \"theta\": [\"bpm\"], \"type\": \"barpolar\"}, {\"hoverlabel\": {\"namelength\": 0}, \"hovertemplate\": \"Factors=%{theta}<br>FI=%{r}\", \"legendgroup\": \"Factors=rr_skew\", \"marker\": {\"color\": \"#fb9f3a\"}, \"name\": \"Factors=rr_skew\", \"r\": [0.27093358999037603], \"showlegend\": true, \"subplot\": \"polar\", \"theta\": [\"rr_skew\"], \"type\": \"barpolar\"}, {\"hoverlabel\": {\"namelength\": 0}, \"hovertemplate\": \"Factors=%{theta}<br>FI=%{r}\", \"legendgroup\": \"Factors=sdnn\", \"marker\": {\"color\": \"#ed7953\"}, \"name\": \"Factors=sdnn\", \"r\": [0.24302213666987466], \"showlegend\": true, \"subplot\": \"polar\", \"theta\": [\"sdnn\"], \"type\": \"barpolar\"}, {\"hoverlabel\": {\"namelength\": 0}, \"hovertemplate\": \"Factors=%{theta}<br>FI=%{r}\", \"legendgroup\": \"Factors=mxdmn\", \"marker\": {\"color\": \"#d8576b\"}, \"name\": \"Factors=mxdmn\", \"r\": [0.24302213666987466], \"showlegend\": true, \"subplot\": \"polar\", \"theta\": [\"mxdmn\"], \"type\": \"barpolar\"}, {\"hoverlabel\": {\"namelength\": 0}, \"hovertemplate\": \"Factors=%{theta}<br>FI=%{r}\", \"legendgroup\": \"Factors=vlf\", \"marker\": {\"color\": \"#bd3786\"}, \"name\": \"Factors=vlf\", \"r\": [0.24302213666987466], \"showlegend\": true, \"subplot\": \"polar\", \"theta\": [\"vlf\"], \"type\": \"barpolar\"}, {\"hoverlabel\": {\"namelength\": 0}, \"hovertemplate\": \"Factors=%{theta}<br>FI=%{r}\", \"legendgroup\": \"Factors=meanrr\", \"marker\": {\"color\": \"#9c179e\"}, \"name\": \"Factors=meanrr\", \"r\": [0.22906641000962438], \"showlegend\": true, \"subplot\": \"polar\", \"theta\": [\"meanrr\"], \"type\": \"barpolar\"}, {\"hoverlabel\": {\"namelength\": 0}, \"hovertemplate\": \"Factors=%{theta}<br>FI=%{r}\", \"legendgroup\": \"Factors=amo\", \"marker\": {\"color\": \"#7201a8\"}, \"name\": \"Factors=amo\", \"r\": [0.14244465832531233], \"showlegend\": true, \"subplot\": \"polar\", \"theta\": [\"amo\"], \"type\": \"barpolar\"}, {\"hoverlabel\": {\"namelength\": 0}, \"hovertemplate\": \"Factors=%{theta}<br>FI=%{r}\", \"legendgroup\": \"Factors=rr_var\", \"marker\": {\"color\": \"#46039f\"}, \"name\": \"Factors=rr_var\", \"r\": [0.12848893166506206], \"showlegend\": true, \"subplot\": \"polar\", \"theta\": [\"rr_var\"], \"type\": \"barpolar\"}, {\"hoverlabel\": {\"namelength\": 0}, \"hovertemplate\": \"Factors=%{theta}<br>FI=%{r}\", \"legendgroup\": \"Factors=lf\", \"marker\": {\"color\": \"#0d0887\"}, \"name\": \"Factors=lf\", \"r\": [0.12848893166506206], \"showlegend\": true, \"subplot\": \"polar\", \"theta\": [\"lf\"], \"type\": \"barpolar\"}, {\"hoverlabel\": {\"namelength\": 0}, \"hovertemplate\": \"Factors=%{theta}<br>FI=%{r}\", \"legendgroup\": \"Factors=lfhf\", \"marker\": {\"color\": \"#f0f921\"}, \"name\": \"Factors=lfhf\", \"r\": [0.0], \"showlegend\": true, \"subplot\": \"polar\", \"theta\": [\"lfhf\"], \"type\": \"barpolar\"}],\n",
              "                        {\"barmode\": \"relative\", \"legend\": {\"tracegroupgap\": 0}, \"margin\": {\"t\": 60}, \"polar\": {\"angularaxis\": {\"categoryarray\": [\"day_after_test\", \"rr_kurt\", \"total_power\", \"rr_max\", \"mode\", \"rr_median\", \"rmssd\", \"pnn50\", \"rr_IQR\", \"hf\", \"rr_min\", \"bpm\", \"rr_skew\", \"sdnn\", \"mxdmn\", \"vlf\", \"meanrr\", \"amo\", \"rr_var\", \"lf\", \"lfhf\"], \"categoryorder\": \"array\", \"direction\": \"clockwise\", \"rotation\": 90}, \"domain\": {\"x\": [0.0, 1.0], \"y\": [0.0, 1.0]}}, \"template\": {\"data\": {\"bar\": [{\"error_x\": {\"color\": \"rgb(36,36,36)\"}, \"error_y\": {\"color\": \"rgb(36,36,36)\"}, \"marker\": {\"line\": {\"color\": \"rgb(234,234,242)\", \"width\": 0.5}}, \"type\": \"bar\"}], \"barpolar\": [{\"marker\": {\"line\": {\"color\": \"rgb(234,234,242)\", \"width\": 0.5}}, \"type\": \"barpolar\"}], \"carpet\": [{\"aaxis\": {\"endlinecolor\": \"rgb(36,36,36)\", \"gridcolor\": \"white\", \"linecolor\": \"white\", \"minorgridcolor\": \"white\", \"startlinecolor\": \"rgb(36,36,36)\"}, \"baxis\": {\"endlinecolor\": \"rgb(36,36,36)\", \"gridcolor\": \"white\", \"linecolor\": \"white\", \"minorgridcolor\": \"white\", \"startlinecolor\": \"rgb(36,36,36)\"}, \"type\": \"carpet\"}], \"choropleth\": [{\"colorbar\": {\"outlinewidth\": 0, \"tickcolor\": \"rgb(36,36,36)\", \"ticklen\": 8, \"ticks\": \"outside\", \"tickwidth\": 2}, \"type\": \"choropleth\"}], \"contour\": [{\"colorbar\": {\"outlinewidth\": 0, \"tickcolor\": \"rgb(36,36,36)\", \"ticklen\": 8, \"ticks\": \"outside\", \"tickwidth\": 2}, \"colorscale\": [[0.0, \"rgb(2,4,25)\"], [0.06274509803921569, \"rgb(24,15,41)\"], [0.12549019607843137, \"rgb(47,23,57)\"], [0.18823529411764706, \"rgb(71,28,72)\"], [0.25098039215686274, \"rgb(97,30,82)\"], [0.3137254901960784, \"rgb(123,30,89)\"], [0.3764705882352941, \"rgb(150,27,91)\"], [0.4392156862745098, \"rgb(177,22,88)\"], [0.5019607843137255, \"rgb(203,26,79)\"], [0.5647058823529412, \"rgb(223,47,67)\"], [0.6274509803921569, \"rgb(236,76,61)\"], [0.6901960784313725, \"rgb(242,107,73)\"], [0.7529411764705882, \"rgb(244,135,95)\"], [0.8156862745098039, \"rgb(245,162,122)\"], [0.8784313725490196, \"rgb(246,188,153)\"], [0.9411764705882353, \"rgb(247,212,187)\"], [1.0, \"rgb(250,234,220)\"]], \"type\": \"contour\"}], \"contourcarpet\": [{\"colorbar\": {\"outlinewidth\": 0, \"tickcolor\": \"rgb(36,36,36)\", \"ticklen\": 8, \"ticks\": \"outside\", \"tickwidth\": 2}, \"type\": \"contourcarpet\"}], \"heatmap\": [{\"colorbar\": {\"outlinewidth\": 0, \"tickcolor\": \"rgb(36,36,36)\", \"ticklen\": 8, \"ticks\": \"outside\", \"tickwidth\": 2}, \"colorscale\": [[0.0, \"rgb(2,4,25)\"], [0.06274509803921569, \"rgb(24,15,41)\"], [0.12549019607843137, \"rgb(47,23,57)\"], [0.18823529411764706, \"rgb(71,28,72)\"], [0.25098039215686274, \"rgb(97,30,82)\"], [0.3137254901960784, \"rgb(123,30,89)\"], [0.3764705882352941, \"rgb(150,27,91)\"], [0.4392156862745098, \"rgb(177,22,88)\"], [0.5019607843137255, \"rgb(203,26,79)\"], [0.5647058823529412, \"rgb(223,47,67)\"], [0.6274509803921569, \"rgb(236,76,61)\"], [0.6901960784313725, \"rgb(242,107,73)\"], [0.7529411764705882, \"rgb(244,135,95)\"], [0.8156862745098039, \"rgb(245,162,122)\"], [0.8784313725490196, \"rgb(246,188,153)\"], [0.9411764705882353, \"rgb(247,212,187)\"], [1.0, \"rgb(250,234,220)\"]], \"type\": \"heatmap\"}], \"heatmapgl\": [{\"colorbar\": {\"outlinewidth\": 0, \"tickcolor\": \"rgb(36,36,36)\", \"ticklen\": 8, \"ticks\": \"outside\", \"tickwidth\": 2}, \"colorscale\": [[0.0, \"rgb(2,4,25)\"], [0.06274509803921569, \"rgb(24,15,41)\"], [0.12549019607843137, \"rgb(47,23,57)\"], [0.18823529411764706, \"rgb(71,28,72)\"], [0.25098039215686274, \"rgb(97,30,82)\"], [0.3137254901960784, \"rgb(123,30,89)\"], [0.3764705882352941, \"rgb(150,27,91)\"], [0.4392156862745098, \"rgb(177,22,88)\"], [0.5019607843137255, \"rgb(203,26,79)\"], [0.5647058823529412, \"rgb(223,47,67)\"], [0.6274509803921569, \"rgb(236,76,61)\"], [0.6901960784313725, \"rgb(242,107,73)\"], [0.7529411764705882, \"rgb(244,135,95)\"], [0.8156862745098039, \"rgb(245,162,122)\"], [0.8784313725490196, \"rgb(246,188,153)\"], [0.9411764705882353, \"rgb(247,212,187)\"], [1.0, \"rgb(250,234,220)\"]], \"type\": \"heatmapgl\"}], \"histogram\": [{\"marker\": {\"colorbar\": {\"outlinewidth\": 0, \"tickcolor\": \"rgb(36,36,36)\", \"ticklen\": 8, \"ticks\": \"outside\", \"tickwidth\": 2}}, \"type\": \"histogram\"}], \"histogram2d\": [{\"colorbar\": {\"outlinewidth\": 0, \"tickcolor\": \"rgb(36,36,36)\", \"ticklen\": 8, \"ticks\": \"outside\", \"tickwidth\": 2}, \"colorscale\": [[0.0, \"rgb(2,4,25)\"], [0.06274509803921569, \"rgb(24,15,41)\"], [0.12549019607843137, \"rgb(47,23,57)\"], [0.18823529411764706, \"rgb(71,28,72)\"], [0.25098039215686274, \"rgb(97,30,82)\"], [0.3137254901960784, \"rgb(123,30,89)\"], [0.3764705882352941, \"rgb(150,27,91)\"], [0.4392156862745098, \"rgb(177,22,88)\"], [0.5019607843137255, \"rgb(203,26,79)\"], [0.5647058823529412, \"rgb(223,47,67)\"], [0.6274509803921569, \"rgb(236,76,61)\"], [0.6901960784313725, \"rgb(242,107,73)\"], [0.7529411764705882, \"rgb(244,135,95)\"], [0.8156862745098039, \"rgb(245,162,122)\"], [0.8784313725490196, \"rgb(246,188,153)\"], [0.9411764705882353, \"rgb(247,212,187)\"], [1.0, \"rgb(250,234,220)\"]], \"type\": \"histogram2d\"}], \"histogram2dcontour\": [{\"colorbar\": {\"outlinewidth\": 0, \"tickcolor\": \"rgb(36,36,36)\", \"ticklen\": 8, \"ticks\": \"outside\", \"tickwidth\": 2}, \"colorscale\": [[0.0, \"rgb(2,4,25)\"], [0.06274509803921569, \"rgb(24,15,41)\"], [0.12549019607843137, \"rgb(47,23,57)\"], [0.18823529411764706, \"rgb(71,28,72)\"], [0.25098039215686274, \"rgb(97,30,82)\"], [0.3137254901960784, \"rgb(123,30,89)\"], [0.3764705882352941, \"rgb(150,27,91)\"], [0.4392156862745098, \"rgb(177,22,88)\"], [0.5019607843137255, \"rgb(203,26,79)\"], [0.5647058823529412, \"rgb(223,47,67)\"], [0.6274509803921569, \"rgb(236,76,61)\"], [0.6901960784313725, \"rgb(242,107,73)\"], [0.7529411764705882, \"rgb(244,135,95)\"], [0.8156862745098039, \"rgb(245,162,122)\"], [0.8784313725490196, \"rgb(246,188,153)\"], [0.9411764705882353, \"rgb(247,212,187)\"], [1.0, \"rgb(250,234,220)\"]], \"type\": \"histogram2dcontour\"}], \"mesh3d\": [{\"colorbar\": {\"outlinewidth\": 0, \"tickcolor\": \"rgb(36,36,36)\", \"ticklen\": 8, \"ticks\": \"outside\", \"tickwidth\": 2}, \"type\": \"mesh3d\"}], \"parcoords\": [{\"line\": {\"colorbar\": {\"outlinewidth\": 0, \"tickcolor\": \"rgb(36,36,36)\", \"ticklen\": 8, \"ticks\": \"outside\", \"tickwidth\": 2}}, \"type\": \"parcoords\"}], \"pie\": [{\"automargin\": true, \"type\": \"pie\"}], \"scatter\": [{\"marker\": {\"colorbar\": {\"outlinewidth\": 0, \"tickcolor\": \"rgb(36,36,36)\", \"ticklen\": 8, \"ticks\": \"outside\", \"tickwidth\": 2}}, \"type\": \"scatter\"}], \"scatter3d\": [{\"line\": {\"colorbar\": {\"outlinewidth\": 0, \"tickcolor\": \"rgb(36,36,36)\", \"ticklen\": 8, \"ticks\": \"outside\", \"tickwidth\": 2}}, \"marker\": {\"colorbar\": {\"outlinewidth\": 0, \"tickcolor\": \"rgb(36,36,36)\", \"ticklen\": 8, \"ticks\": \"outside\", \"tickwidth\": 2}}, \"type\": \"scatter3d\"}], \"scattercarpet\": [{\"marker\": {\"colorbar\": {\"outlinewidth\": 0, \"tickcolor\": \"rgb(36,36,36)\", \"ticklen\": 8, \"ticks\": \"outside\", \"tickwidth\": 2}}, \"type\": \"scattercarpet\"}], \"scattergeo\": [{\"marker\": {\"colorbar\": {\"outlinewidth\": 0, \"tickcolor\": \"rgb(36,36,36)\", \"ticklen\": 8, \"ticks\": \"outside\", \"tickwidth\": 2}}, \"type\": \"scattergeo\"}], \"scattergl\": [{\"marker\": {\"colorbar\": {\"outlinewidth\": 0, \"tickcolor\": \"rgb(36,36,36)\", \"ticklen\": 8, \"ticks\": \"outside\", \"tickwidth\": 2}}, \"type\": \"scattergl\"}], \"scattermapbox\": [{\"marker\": {\"colorbar\": {\"outlinewidth\": 0, \"tickcolor\": \"rgb(36,36,36)\", \"ticklen\": 8, \"ticks\": \"outside\", \"tickwidth\": 2}}, \"type\": \"scattermapbox\"}], \"scatterpolar\": [{\"marker\": {\"colorbar\": {\"outlinewidth\": 0, \"tickcolor\": \"rgb(36,36,36)\", \"ticklen\": 8, \"ticks\": \"outside\", \"tickwidth\": 2}}, \"type\": \"scatterpolar\"}], \"scatterpolargl\": [{\"marker\": {\"colorbar\": {\"outlinewidth\": 0, \"tickcolor\": \"rgb(36,36,36)\", \"ticklen\": 8, \"ticks\": \"outside\", \"tickwidth\": 2}}, \"type\": \"scatterpolargl\"}], \"scatterternary\": [{\"marker\": {\"colorbar\": {\"outlinewidth\": 0, \"tickcolor\": \"rgb(36,36,36)\", \"ticklen\": 8, \"ticks\": \"outside\", \"tickwidth\": 2}}, \"type\": \"scatterternary\"}], \"surface\": [{\"colorbar\": {\"outlinewidth\": 0, \"tickcolor\": \"rgb(36,36,36)\", \"ticklen\": 8, \"ticks\": \"outside\", \"tickwidth\": 2}, \"colorscale\": [[0.0, \"rgb(2,4,25)\"], [0.06274509803921569, \"rgb(24,15,41)\"], [0.12549019607843137, \"rgb(47,23,57)\"], [0.18823529411764706, \"rgb(71,28,72)\"], [0.25098039215686274, \"rgb(97,30,82)\"], [0.3137254901960784, \"rgb(123,30,89)\"], [0.3764705882352941, \"rgb(150,27,91)\"], [0.4392156862745098, \"rgb(177,22,88)\"], [0.5019607843137255, \"rgb(203,26,79)\"], [0.5647058823529412, \"rgb(223,47,67)\"], [0.6274509803921569, \"rgb(236,76,61)\"], [0.6901960784313725, \"rgb(242,107,73)\"], [0.7529411764705882, \"rgb(244,135,95)\"], [0.8156862745098039, \"rgb(245,162,122)\"], [0.8784313725490196, \"rgb(246,188,153)\"], [0.9411764705882353, \"rgb(247,212,187)\"], [1.0, \"rgb(250,234,220)\"]], \"type\": \"surface\"}], \"table\": [{\"cells\": {\"fill\": {\"color\": \"rgb(231,231,240)\"}, \"line\": {\"color\": \"white\"}}, \"header\": {\"fill\": {\"color\": \"rgb(183,183,191)\"}, \"line\": {\"color\": \"white\"}}, \"type\": \"table\"}]}, \"layout\": {\"annotationdefaults\": {\"arrowcolor\": \"rgb(67,103,167)\"}, \"coloraxis\": {\"colorbar\": {\"outlinewidth\": 0, \"tickcolor\": \"rgb(36,36,36)\", \"ticklen\": 8, \"ticks\": \"outside\", \"tickwidth\": 2}}, \"colorscale\": {\"sequential\": [[0.0, \"rgb(2,4,25)\"], [0.06274509803921569, \"rgb(24,15,41)\"], [0.12549019607843137, \"rgb(47,23,57)\"], [0.18823529411764706, \"rgb(71,28,72)\"], [0.25098039215686274, \"rgb(97,30,82)\"], [0.3137254901960784, \"rgb(123,30,89)\"], [0.3764705882352941, \"rgb(150,27,91)\"], [0.4392156862745098, \"rgb(177,22,88)\"], [0.5019607843137255, \"rgb(203,26,79)\"], [0.5647058823529412, \"rgb(223,47,67)\"], [0.6274509803921569, \"rgb(236,76,61)\"], [0.6901960784313725, \"rgb(242,107,73)\"], [0.7529411764705882, \"rgb(244,135,95)\"], [0.8156862745098039, \"rgb(245,162,122)\"], [0.8784313725490196, \"rgb(246,188,153)\"], [0.9411764705882353, \"rgb(247,212,187)\"], [1.0, \"rgb(250,234,220)\"]], \"sequentialminus\": [[0.0, \"rgb(2,4,25)\"], [0.06274509803921569, \"rgb(24,15,41)\"], [0.12549019607843137, \"rgb(47,23,57)\"], [0.18823529411764706, \"rgb(71,28,72)\"], [0.25098039215686274, \"rgb(97,30,82)\"], [0.3137254901960784, \"rgb(123,30,89)\"], [0.3764705882352941, \"rgb(150,27,91)\"], [0.4392156862745098, \"rgb(177,22,88)\"], [0.5019607843137255, \"rgb(203,26,79)\"], [0.5647058823529412, \"rgb(223,47,67)\"], [0.6274509803921569, \"rgb(236,76,61)\"], [0.6901960784313725, \"rgb(242,107,73)\"], [0.7529411764705882, \"rgb(244,135,95)\"], [0.8156862745098039, \"rgb(245,162,122)\"], [0.8784313725490196, \"rgb(246,188,153)\"], [0.9411764705882353, \"rgb(247,212,187)\"], [1.0, \"rgb(250,234,220)\"]]}, \"colorway\": [\"rgb(76,114,176)\", \"rgb(221,132,82)\", \"rgb(85,168,104)\", \"rgb(196,78,82)\", \"rgb(129,114,179)\", \"rgb(147,120,96)\", \"rgb(218,139,195)\", \"rgb(140,140,140)\", \"rgb(204,185,116)\", \"rgb(100,181,205)\"], \"font\": {\"color\": \"rgb(36,36,36)\"}, \"geo\": {\"bgcolor\": \"white\", \"lakecolor\": \"white\", \"landcolor\": \"rgb(234,234,242)\", \"showlakes\": true, \"showland\": true, \"subunitcolor\": \"white\"}, \"hoverlabel\": {\"align\": \"left\"}, \"hovermode\": \"closest\", \"paper_bgcolor\": \"white\", \"plot_bgcolor\": \"rgb(234,234,242)\", \"polar\": {\"angularaxis\": {\"gridcolor\": \"white\", \"linecolor\": \"white\", \"showgrid\": true, \"ticks\": \"\"}, \"bgcolor\": \"rgb(234,234,242)\", \"radialaxis\": {\"gridcolor\": \"white\", \"linecolor\": \"white\", \"showgrid\": true, \"ticks\": \"\"}}, \"scene\": {\"xaxis\": {\"backgroundcolor\": \"rgb(234,234,242)\", \"gridcolor\": \"white\", \"gridwidth\": 2, \"linecolor\": \"white\", \"showbackground\": true, \"showgrid\": true, \"ticks\": \"\", \"zerolinecolor\": \"white\"}, \"yaxis\": {\"backgroundcolor\": \"rgb(234,234,242)\", \"gridcolor\": \"white\", \"gridwidth\": 2, \"linecolor\": \"white\", \"showbackground\": true, \"showgrid\": true, \"ticks\": \"\", \"zerolinecolor\": \"white\"}, \"zaxis\": {\"backgroundcolor\": \"rgb(234,234,242)\", \"gridcolor\": \"white\", \"gridwidth\": 2, \"linecolor\": \"white\", \"showbackground\": true, \"showgrid\": true, \"ticks\": \"\", \"zerolinecolor\": \"white\"}}, \"shapedefaults\": {\"fillcolor\": \"rgb(67,103,167)\", \"line\": {\"width\": 0}, \"opacity\": 0.5}, \"ternary\": {\"aaxis\": {\"gridcolor\": \"white\", \"linecolor\": \"white\", \"showgrid\": true, \"ticks\": \"\"}, \"baxis\": {\"gridcolor\": \"white\", \"linecolor\": \"white\", \"showgrid\": true, \"ticks\": \"\"}, \"bgcolor\": \"rgb(234,234,242)\", \"caxis\": {\"gridcolor\": \"white\", \"linecolor\": \"white\", \"showgrid\": true, \"ticks\": \"\"}}, \"xaxis\": {\"automargin\": true, \"gridcolor\": \"white\", \"linecolor\": \"white\", \"showgrid\": true, \"ticks\": \"\", \"title\": {\"standoff\": 15}, \"zerolinecolor\": \"white\"}, \"yaxis\": {\"automargin\": true, \"gridcolor\": \"white\", \"linecolor\": \"white\", \"showgrid\": true, \"ticks\": \"\", \"title\": {\"standoff\": 15}, \"zerolinecolor\": \"white\"}}}, \"title\": {\"text\": \"Mild\"}},\n",
              "                        {\"responsive\": true}\n",
              "                    ).then(function(){\n",
              "                            \n",
              "var gd = document.getElementById('ebb7874d-132e-49c7-9f3a-e20c6113f143');\n",
              "var x = new MutationObserver(function (mutations, observer) {{\n",
              "        var display = window.getComputedStyle(gd).display;\n",
              "        if (!display || display === 'none') {{\n",
              "            console.log([gd, 'removed!']);\n",
              "            Plotly.purge(gd);\n",
              "            observer.disconnect();\n",
              "        }}\n",
              "}});\n",
              "\n",
              "// Listen for the removal of the full notebook cells\n",
              "var notebookContainer = gd.closest('#notebook-container');\n",
              "if (notebookContainer) {{\n",
              "    x.observe(notebookContainer, {childList: true});\n",
              "}}\n",
              "\n",
              "// Listen for the clearing of the current output cell\n",
              "var outputEl = gd.closest('.output');\n",
              "if (outputEl) {{\n",
              "    x.observe(outputEl, {childList: true});\n",
              "}}\n",
              "\n",
              "                        })\n",
              "                };\n",
              "                \n",
              "            </script>\n",
              "        </div>\n",
              "</body>\n",
              "</html>"
            ]
          },
          "metadata": {
            "tags": []
          }
        },
        {
          "output_type": "display_data",
          "data": {
            "text/html": [
              "<html>\n",
              "<head><meta charset=\"utf-8\" /></head>\n",
              "<body>\n",
              "    <div>\n",
              "            <script src=\"https://cdnjs.cloudflare.com/ajax/libs/mathjax/2.7.5/MathJax.js?config=TeX-AMS-MML_SVG\"></script><script type=\"text/javascript\">if (window.MathJax) {MathJax.Hub.Config({SVG: {font: \"STIX-Web\"}});}</script>\n",
              "                <script type=\"text/javascript\">window.PlotlyConfig = {MathJaxConfig: 'local'};</script>\n",
              "        <script src=\"https://cdn.plot.ly/plotly-latest.min.js\"></script>    \n",
              "            <div id=\"6e8f8bef-6a10-4ee0-8046-0fc8fe30e120\" class=\"plotly-graph-div\" style=\"height:525px; width:100%;\"></div>\n",
              "            <script type=\"text/javascript\">\n",
              "                \n",
              "                    window.PLOTLYENV=window.PLOTLYENV || {};\n",
              "                    \n",
              "                if (document.getElementById(\"6e8f8bef-6a10-4ee0-8046-0fc8fe30e120\")) {\n",
              "                    Plotly.newPlot(\n",
              "                        '6e8f8bef-6a10-4ee0-8046-0fc8fe30e120',\n",
              "                        [{\"hoverlabel\": {\"namelength\": 0}, \"hovertemplate\": \"Factors=%{theta}<br>FI=%{r}\", \"legendgroup\": \"Factors=day_after_test\", \"marker\": {\"color\": \"#f0f921\"}, \"name\": \"Factors=day_after_test\", \"r\": [1.0], \"showlegend\": true, \"subplot\": \"polar\", \"theta\": [\"day_after_test\"], \"type\": \"barpolar\"}, {\"hoverlabel\": {\"namelength\": 0}, \"hovertemplate\": \"Factors=%{theta}<br>FI=%{r}\", \"legendgroup\": \"Factors=rr_skew\", \"marker\": {\"color\": \"#fdca26\"}, \"name\": \"Factors=rr_skew\", \"r\": [0.8893905191873592], \"showlegend\": true, \"subplot\": \"polar\", \"theta\": [\"rr_skew\"], \"type\": \"barpolar\"}, {\"hoverlabel\": {\"namelength\": 0}, \"hovertemplate\": \"Factors=%{theta}<br>FI=%{r}\", \"legendgroup\": \"Factors=lf\", \"marker\": {\"color\": \"#fb9f3a\"}, \"name\": \"Factors=lf\", \"r\": [0.7787810383747136], \"showlegend\": true, \"subplot\": \"polar\", \"theta\": [\"lf\"], \"type\": \"barpolar\"}, {\"hoverlabel\": {\"namelength\": 0}, \"hovertemplate\": \"Factors=%{theta}<br>FI=%{r}\", \"legendgroup\": \"Factors=hf\", \"marker\": {\"color\": \"#ed7953\"}, \"name\": \"Factors=hf\", \"r\": [0.7787810383747136], \"showlegend\": true, \"subplot\": \"polar\", \"theta\": [\"hf\"], \"type\": \"barpolar\"}, {\"hoverlabel\": {\"namelength\": 0}, \"hovertemplate\": \"Factors=%{theta}<br>FI=%{r}\", \"legendgroup\": \"Factors=lfhf\", \"marker\": {\"color\": \"#d8576b\"}, \"name\": \"Factors=lfhf\", \"r\": [0.6681715575620776], \"showlegend\": true, \"subplot\": \"polar\", \"theta\": [\"lfhf\"], \"type\": \"barpolar\"}, {\"hoverlabel\": {\"namelength\": 0}, \"hovertemplate\": \"Factors=%{theta}<br>FI=%{r}\", \"legendgroup\": \"Factors=vlf\", \"marker\": {\"color\": \"#bd3786\"}, \"name\": \"Factors=vlf\", \"r\": [0.5575620767494319], \"showlegend\": true, \"subplot\": \"polar\", \"theta\": [\"vlf\"], \"type\": \"barpolar\"}, {\"hoverlabel\": {\"namelength\": 0}, \"hovertemplate\": \"Factors=%{theta}<br>FI=%{r}\", \"legendgroup\": \"Factors=mxdmn\", \"marker\": {\"color\": \"#9c179e\"}, \"name\": \"Factors=mxdmn\", \"r\": [0.5575620767494319], \"showlegend\": true, \"subplot\": \"polar\", \"theta\": [\"mxdmn\"], \"type\": \"barpolar\"}, {\"hoverlabel\": {\"namelength\": 0}, \"hovertemplate\": \"Factors=%{theta}<br>FI=%{r}\", \"legendgroup\": \"Factors=sdnn\", \"marker\": {\"color\": \"#7201a8\"}, \"name\": \"Factors=sdnn\", \"r\": [0.5575620767494319], \"showlegend\": true, \"subplot\": \"polar\", \"theta\": [\"sdnn\"], \"type\": \"barpolar\"}, {\"hoverlabel\": {\"namelength\": 0}, \"hovertemplate\": \"Factors=%{theta}<br>FI=%{r}\", \"legendgroup\": \"Factors=rr_min\", \"marker\": {\"color\": \"#46039f\"}, \"name\": \"Factors=rr_min\", \"r\": [0.5553047404063204], \"showlegend\": true, \"subplot\": \"polar\", \"theta\": [\"rr_min\"], \"type\": \"barpolar\"}, {\"hoverlabel\": {\"namelength\": 0}, \"hovertemplate\": \"Factors=%{theta}<br>FI=%{r}\", \"legendgroup\": \"Factors=rr_kurt\", \"marker\": {\"color\": \"#0d0887\"}, \"name\": \"Factors=rr_kurt\", \"r\": [0.5553047404063204], \"showlegend\": true, \"subplot\": \"polar\", \"theta\": [\"rr_kurt\"], \"type\": \"barpolar\"}, {\"hoverlabel\": {\"namelength\": 0}, \"hovertemplate\": \"Factors=%{theta}<br>FI=%{r}\", \"legendgroup\": \"Factors=amo\", \"marker\": {\"color\": \"#f0f921\"}, \"name\": \"Factors=amo\", \"r\": [0.44695259593678627], \"showlegend\": true, \"subplot\": \"polar\", \"theta\": [\"amo\"], \"type\": \"barpolar\"}, {\"hoverlabel\": {\"namelength\": 0}, \"hovertemplate\": \"Factors=%{theta}<br>FI=%{r}\", \"legendgroup\": \"Factors=total_power\", \"marker\": {\"color\": \"#fdca26\"}, \"name\": \"Factors=total_power\", \"r\": [0.44469525959367473], \"showlegend\": true, \"subplot\": \"polar\", \"theta\": [\"total_power\"], \"type\": \"barpolar\"}, {\"hoverlabel\": {\"namelength\": 0}, \"hovertemplate\": \"Factors=%{theta}<br>FI=%{r}\", \"legendgroup\": \"Factors=rr_max\", \"marker\": {\"color\": \"#fb9f3a\"}, \"name\": \"Factors=rr_max\", \"r\": [0.3340857787810291], \"showlegend\": true, \"subplot\": \"polar\", \"theta\": [\"rr_max\"], \"type\": \"barpolar\"}, {\"hoverlabel\": {\"namelength\": 0}, \"hovertemplate\": \"Factors=%{theta}<br>FI=%{r}\", \"legendgroup\": \"Factors=bpm\", \"marker\": {\"color\": \"#ed7953\"}, \"name\": \"Factors=bpm\", \"r\": [0.3340857787810291], \"showlegend\": true, \"subplot\": \"polar\", \"theta\": [\"bpm\"], \"type\": \"barpolar\"}, {\"hoverlabel\": {\"namelength\": 0}, \"hovertemplate\": \"Factors=%{theta}<br>FI=%{r}\", \"legendgroup\": \"Factors=mode\", \"marker\": {\"color\": \"#d8576b\"}, \"name\": \"Factors=mode\", \"r\": [0.33182844243792725], \"showlegend\": true, \"subplot\": \"polar\", \"theta\": [\"mode\"], \"type\": \"barpolar\"}, {\"hoverlabel\": {\"namelength\": 0}, \"hovertemplate\": \"Factors=%{theta}<br>FI=%{r}\", \"legendgroup\": \"Factors=pnn50\", \"marker\": {\"color\": \"#bd3786\"}, \"name\": \"Factors=pnn50\", \"r\": [0.22347629796839313], \"showlegend\": true, \"subplot\": \"polar\", \"theta\": [\"pnn50\"], \"type\": \"barpolar\"}, {\"hoverlabel\": {\"namelength\": 0}, \"hovertemplate\": \"Factors=%{theta}<br>FI=%{r}\", \"legendgroup\": \"Factors=rmssd\", \"marker\": {\"color\": \"#9c179e\"}, \"name\": \"Factors=rmssd\", \"r\": [0.22347629796839313], \"showlegend\": true, \"subplot\": \"polar\", \"theta\": [\"rmssd\"], \"type\": \"barpolar\"}, {\"hoverlabel\": {\"namelength\": 0}, \"hovertemplate\": \"Factors=%{theta}<br>FI=%{r}\", \"legendgroup\": \"Factors=rr_IQR\", \"marker\": {\"color\": \"#7201a8\"}, \"name\": \"Factors=rr_IQR\", \"r\": [0.22121896162527188], \"showlegend\": true, \"subplot\": \"polar\", \"theta\": [\"rr_IQR\"], \"type\": \"barpolar\"}, {\"hoverlabel\": {\"namelength\": 0}, \"hovertemplate\": \"Factors=%{theta}<br>FI=%{r}\", \"legendgroup\": \"Factors=meanrr\", \"marker\": {\"color\": \"#46039f\"}, \"name\": \"Factors=meanrr\", \"r\": [0.11060948081263594], \"showlegend\": true, \"subplot\": \"polar\", \"theta\": [\"meanrr\"], \"type\": \"barpolar\"}, {\"hoverlabel\": {\"namelength\": 0}, \"hovertemplate\": \"Factors=%{theta}<br>FI=%{r}\", \"legendgroup\": \"Factors=rr_median\", \"marker\": {\"color\": \"#0d0887\"}, \"name\": \"Factors=rr_median\", \"r\": [0.11060948081263594], \"showlegend\": true, \"subplot\": \"polar\", \"theta\": [\"rr_median\"], \"type\": \"barpolar\"}, {\"hoverlabel\": {\"namelength\": 0}, \"hovertemplate\": \"Factors=%{theta}<br>FI=%{r}\", \"legendgroup\": \"Factors=rr_var\", \"marker\": {\"color\": \"#f0f921\"}, \"name\": \"Factors=rr_var\", \"r\": [0.0], \"showlegend\": true, \"subplot\": \"polar\", \"theta\": [\"rr_var\"], \"type\": \"barpolar\"}],\n",
              "                        {\"barmode\": \"relative\", \"legend\": {\"tracegroupgap\": 0}, \"margin\": {\"t\": 60}, \"polar\": {\"angularaxis\": {\"categoryarray\": [\"day_after_test\", \"rr_skew\", \"lf\", \"hf\", \"lfhf\", \"vlf\", \"mxdmn\", \"sdnn\", \"rr_min\", \"rr_kurt\", \"amo\", \"total_power\", \"rr_max\", \"bpm\", \"mode\", \"pnn50\", \"rmssd\", \"rr_IQR\", \"meanrr\", \"rr_median\", \"rr_var\"], \"categoryorder\": \"array\", \"direction\": \"clockwise\", \"rotation\": 90}, \"domain\": {\"x\": [0.0, 1.0], \"y\": [0.0, 1.0]}}, \"template\": {\"data\": {\"bar\": [{\"error_x\": {\"color\": \"rgb(36,36,36)\"}, \"error_y\": {\"color\": \"rgb(36,36,36)\"}, \"marker\": {\"line\": {\"color\": \"rgb(234,234,242)\", \"width\": 0.5}}, \"type\": \"bar\"}], \"barpolar\": [{\"marker\": {\"line\": {\"color\": \"rgb(234,234,242)\", \"width\": 0.5}}, \"type\": \"barpolar\"}], \"carpet\": [{\"aaxis\": {\"endlinecolor\": \"rgb(36,36,36)\", \"gridcolor\": \"white\", \"linecolor\": \"white\", \"minorgridcolor\": \"white\", \"startlinecolor\": \"rgb(36,36,36)\"}, \"baxis\": {\"endlinecolor\": \"rgb(36,36,36)\", \"gridcolor\": \"white\", \"linecolor\": \"white\", \"minorgridcolor\": \"white\", \"startlinecolor\": \"rgb(36,36,36)\"}, \"type\": \"carpet\"}], \"choropleth\": [{\"colorbar\": {\"outlinewidth\": 0, \"tickcolor\": \"rgb(36,36,36)\", \"ticklen\": 8, \"ticks\": \"outside\", \"tickwidth\": 2}, \"type\": \"choropleth\"}], \"contour\": [{\"colorbar\": {\"outlinewidth\": 0, \"tickcolor\": \"rgb(36,36,36)\", \"ticklen\": 8, \"ticks\": \"outside\", \"tickwidth\": 2}, \"colorscale\": [[0.0, \"rgb(2,4,25)\"], [0.06274509803921569, \"rgb(24,15,41)\"], [0.12549019607843137, \"rgb(47,23,57)\"], [0.18823529411764706, \"rgb(71,28,72)\"], [0.25098039215686274, \"rgb(97,30,82)\"], [0.3137254901960784, \"rgb(123,30,89)\"], [0.3764705882352941, \"rgb(150,27,91)\"], [0.4392156862745098, \"rgb(177,22,88)\"], [0.5019607843137255, \"rgb(203,26,79)\"], [0.5647058823529412, \"rgb(223,47,67)\"], [0.6274509803921569, \"rgb(236,76,61)\"], [0.6901960784313725, \"rgb(242,107,73)\"], [0.7529411764705882, \"rgb(244,135,95)\"], [0.8156862745098039, \"rgb(245,162,122)\"], [0.8784313725490196, \"rgb(246,188,153)\"], [0.9411764705882353, \"rgb(247,212,187)\"], [1.0, \"rgb(250,234,220)\"]], \"type\": \"contour\"}], \"contourcarpet\": [{\"colorbar\": {\"outlinewidth\": 0, \"tickcolor\": \"rgb(36,36,36)\", \"ticklen\": 8, \"ticks\": \"outside\", \"tickwidth\": 2}, \"type\": \"contourcarpet\"}], \"heatmap\": [{\"colorbar\": {\"outlinewidth\": 0, \"tickcolor\": \"rgb(36,36,36)\", \"ticklen\": 8, \"ticks\": \"outside\", \"tickwidth\": 2}, \"colorscale\": [[0.0, \"rgb(2,4,25)\"], [0.06274509803921569, \"rgb(24,15,41)\"], [0.12549019607843137, \"rgb(47,23,57)\"], [0.18823529411764706, \"rgb(71,28,72)\"], [0.25098039215686274, \"rgb(97,30,82)\"], [0.3137254901960784, \"rgb(123,30,89)\"], [0.3764705882352941, \"rgb(150,27,91)\"], [0.4392156862745098, \"rgb(177,22,88)\"], [0.5019607843137255, \"rgb(203,26,79)\"], [0.5647058823529412, \"rgb(223,47,67)\"], [0.6274509803921569, \"rgb(236,76,61)\"], [0.6901960784313725, \"rgb(242,107,73)\"], [0.7529411764705882, \"rgb(244,135,95)\"], [0.8156862745098039, \"rgb(245,162,122)\"], [0.8784313725490196, \"rgb(246,188,153)\"], [0.9411764705882353, \"rgb(247,212,187)\"], [1.0, \"rgb(250,234,220)\"]], \"type\": \"heatmap\"}], \"heatmapgl\": [{\"colorbar\": {\"outlinewidth\": 0, \"tickcolor\": \"rgb(36,36,36)\", \"ticklen\": 8, \"ticks\": \"outside\", \"tickwidth\": 2}, \"colorscale\": [[0.0, \"rgb(2,4,25)\"], [0.06274509803921569, \"rgb(24,15,41)\"], [0.12549019607843137, \"rgb(47,23,57)\"], [0.18823529411764706, \"rgb(71,28,72)\"], [0.25098039215686274, \"rgb(97,30,82)\"], [0.3137254901960784, \"rgb(123,30,89)\"], [0.3764705882352941, \"rgb(150,27,91)\"], [0.4392156862745098, \"rgb(177,22,88)\"], [0.5019607843137255, \"rgb(203,26,79)\"], [0.5647058823529412, \"rgb(223,47,67)\"], [0.6274509803921569, \"rgb(236,76,61)\"], [0.6901960784313725, \"rgb(242,107,73)\"], [0.7529411764705882, \"rgb(244,135,95)\"], [0.8156862745098039, \"rgb(245,162,122)\"], [0.8784313725490196, \"rgb(246,188,153)\"], [0.9411764705882353, \"rgb(247,212,187)\"], [1.0, \"rgb(250,234,220)\"]], \"type\": \"heatmapgl\"}], \"histogram\": [{\"marker\": {\"colorbar\": {\"outlinewidth\": 0, \"tickcolor\": \"rgb(36,36,36)\", \"ticklen\": 8, \"ticks\": \"outside\", \"tickwidth\": 2}}, \"type\": \"histogram\"}], \"histogram2d\": [{\"colorbar\": {\"outlinewidth\": 0, \"tickcolor\": \"rgb(36,36,36)\", \"ticklen\": 8, \"ticks\": \"outside\", \"tickwidth\": 2}, \"colorscale\": [[0.0, \"rgb(2,4,25)\"], [0.06274509803921569, \"rgb(24,15,41)\"], [0.12549019607843137, \"rgb(47,23,57)\"], [0.18823529411764706, \"rgb(71,28,72)\"], [0.25098039215686274, \"rgb(97,30,82)\"], [0.3137254901960784, \"rgb(123,30,89)\"], [0.3764705882352941, \"rgb(150,27,91)\"], [0.4392156862745098, \"rgb(177,22,88)\"], [0.5019607843137255, \"rgb(203,26,79)\"], [0.5647058823529412, \"rgb(223,47,67)\"], [0.6274509803921569, \"rgb(236,76,61)\"], [0.6901960784313725, \"rgb(242,107,73)\"], [0.7529411764705882, \"rgb(244,135,95)\"], [0.8156862745098039, \"rgb(245,162,122)\"], [0.8784313725490196, \"rgb(246,188,153)\"], [0.9411764705882353, \"rgb(247,212,187)\"], [1.0, \"rgb(250,234,220)\"]], \"type\": \"histogram2d\"}], \"histogram2dcontour\": [{\"colorbar\": {\"outlinewidth\": 0, \"tickcolor\": \"rgb(36,36,36)\", \"ticklen\": 8, \"ticks\": \"outside\", \"tickwidth\": 2}, \"colorscale\": [[0.0, \"rgb(2,4,25)\"], [0.06274509803921569, \"rgb(24,15,41)\"], [0.12549019607843137, \"rgb(47,23,57)\"], [0.18823529411764706, \"rgb(71,28,72)\"], [0.25098039215686274, \"rgb(97,30,82)\"], [0.3137254901960784, \"rgb(123,30,89)\"], [0.3764705882352941, \"rgb(150,27,91)\"], [0.4392156862745098, \"rgb(177,22,88)\"], [0.5019607843137255, \"rgb(203,26,79)\"], [0.5647058823529412, \"rgb(223,47,67)\"], [0.6274509803921569, \"rgb(236,76,61)\"], [0.6901960784313725, \"rgb(242,107,73)\"], [0.7529411764705882, \"rgb(244,135,95)\"], [0.8156862745098039, \"rgb(245,162,122)\"], [0.8784313725490196, \"rgb(246,188,153)\"], [0.9411764705882353, \"rgb(247,212,187)\"], [1.0, \"rgb(250,234,220)\"]], \"type\": \"histogram2dcontour\"}], \"mesh3d\": [{\"colorbar\": {\"outlinewidth\": 0, \"tickcolor\": \"rgb(36,36,36)\", \"ticklen\": 8, \"ticks\": \"outside\", \"tickwidth\": 2}, \"type\": \"mesh3d\"}], \"parcoords\": [{\"line\": {\"colorbar\": {\"outlinewidth\": 0, \"tickcolor\": \"rgb(36,36,36)\", \"ticklen\": 8, \"ticks\": \"outside\", \"tickwidth\": 2}}, \"type\": \"parcoords\"}], \"pie\": [{\"automargin\": true, \"type\": \"pie\"}], \"scatter\": [{\"marker\": {\"colorbar\": {\"outlinewidth\": 0, \"tickcolor\": \"rgb(36,36,36)\", \"ticklen\": 8, \"ticks\": \"outside\", \"tickwidth\": 2}}, \"type\": \"scatter\"}], \"scatter3d\": [{\"line\": {\"colorbar\": {\"outlinewidth\": 0, \"tickcolor\": \"rgb(36,36,36)\", \"ticklen\": 8, \"ticks\": \"outside\", \"tickwidth\": 2}}, \"marker\": {\"colorbar\": {\"outlinewidth\": 0, \"tickcolor\": \"rgb(36,36,36)\", \"ticklen\": 8, \"ticks\": \"outside\", \"tickwidth\": 2}}, \"type\": \"scatter3d\"}], \"scattercarpet\": [{\"marker\": {\"colorbar\": {\"outlinewidth\": 0, \"tickcolor\": \"rgb(36,36,36)\", \"ticklen\": 8, \"ticks\": \"outside\", \"tickwidth\": 2}}, \"type\": \"scattercarpet\"}], \"scattergeo\": [{\"marker\": {\"colorbar\": {\"outlinewidth\": 0, \"tickcolor\": \"rgb(36,36,36)\", \"ticklen\": 8, \"ticks\": \"outside\", \"tickwidth\": 2}}, \"type\": \"scattergeo\"}], \"scattergl\": [{\"marker\": {\"colorbar\": {\"outlinewidth\": 0, \"tickcolor\": \"rgb(36,36,36)\", \"ticklen\": 8, \"ticks\": \"outside\", \"tickwidth\": 2}}, \"type\": \"scattergl\"}], \"scattermapbox\": [{\"marker\": {\"colorbar\": {\"outlinewidth\": 0, \"tickcolor\": \"rgb(36,36,36)\", \"ticklen\": 8, \"ticks\": \"outside\", \"tickwidth\": 2}}, \"type\": \"scattermapbox\"}], \"scatterpolar\": [{\"marker\": {\"colorbar\": {\"outlinewidth\": 0, \"tickcolor\": \"rgb(36,36,36)\", \"ticklen\": 8, \"ticks\": \"outside\", \"tickwidth\": 2}}, \"type\": \"scatterpolar\"}], \"scatterpolargl\": [{\"marker\": {\"colorbar\": {\"outlinewidth\": 0, \"tickcolor\": \"rgb(36,36,36)\", \"ticklen\": 8, \"ticks\": \"outside\", \"tickwidth\": 2}}, \"type\": \"scatterpolargl\"}], \"scatterternary\": [{\"marker\": {\"colorbar\": {\"outlinewidth\": 0, \"tickcolor\": \"rgb(36,36,36)\", \"ticklen\": 8, \"ticks\": \"outside\", \"tickwidth\": 2}}, \"type\": \"scatterternary\"}], \"surface\": [{\"colorbar\": {\"outlinewidth\": 0, \"tickcolor\": \"rgb(36,36,36)\", \"ticklen\": 8, \"ticks\": \"outside\", \"tickwidth\": 2}, \"colorscale\": [[0.0, \"rgb(2,4,25)\"], [0.06274509803921569, \"rgb(24,15,41)\"], [0.12549019607843137, \"rgb(47,23,57)\"], [0.18823529411764706, \"rgb(71,28,72)\"], [0.25098039215686274, \"rgb(97,30,82)\"], [0.3137254901960784, \"rgb(123,30,89)\"], [0.3764705882352941, \"rgb(150,27,91)\"], [0.4392156862745098, \"rgb(177,22,88)\"], [0.5019607843137255, \"rgb(203,26,79)\"], [0.5647058823529412, \"rgb(223,47,67)\"], [0.6274509803921569, \"rgb(236,76,61)\"], [0.6901960784313725, \"rgb(242,107,73)\"], [0.7529411764705882, \"rgb(244,135,95)\"], [0.8156862745098039, \"rgb(245,162,122)\"], [0.8784313725490196, \"rgb(246,188,153)\"], [0.9411764705882353, \"rgb(247,212,187)\"], [1.0, \"rgb(250,234,220)\"]], \"type\": \"surface\"}], \"table\": [{\"cells\": {\"fill\": {\"color\": \"rgb(231,231,240)\"}, \"line\": {\"color\": \"white\"}}, \"header\": {\"fill\": {\"color\": \"rgb(183,183,191)\"}, \"line\": {\"color\": \"white\"}}, \"type\": \"table\"}]}, \"layout\": {\"annotationdefaults\": {\"arrowcolor\": \"rgb(67,103,167)\"}, \"coloraxis\": {\"colorbar\": {\"outlinewidth\": 0, \"tickcolor\": \"rgb(36,36,36)\", \"ticklen\": 8, \"ticks\": \"outside\", \"tickwidth\": 2}}, \"colorscale\": {\"sequential\": [[0.0, \"rgb(2,4,25)\"], [0.06274509803921569, \"rgb(24,15,41)\"], [0.12549019607843137, \"rgb(47,23,57)\"], [0.18823529411764706, \"rgb(71,28,72)\"], [0.25098039215686274, \"rgb(97,30,82)\"], [0.3137254901960784, \"rgb(123,30,89)\"], [0.3764705882352941, \"rgb(150,27,91)\"], [0.4392156862745098, \"rgb(177,22,88)\"], [0.5019607843137255, \"rgb(203,26,79)\"], [0.5647058823529412, \"rgb(223,47,67)\"], [0.6274509803921569, \"rgb(236,76,61)\"], [0.6901960784313725, \"rgb(242,107,73)\"], [0.7529411764705882, \"rgb(244,135,95)\"], [0.8156862745098039, \"rgb(245,162,122)\"], [0.8784313725490196, \"rgb(246,188,153)\"], [0.9411764705882353, \"rgb(247,212,187)\"], [1.0, \"rgb(250,234,220)\"]], \"sequentialminus\": [[0.0, \"rgb(2,4,25)\"], [0.06274509803921569, \"rgb(24,15,41)\"], [0.12549019607843137, \"rgb(47,23,57)\"], [0.18823529411764706, \"rgb(71,28,72)\"], [0.25098039215686274, \"rgb(97,30,82)\"], [0.3137254901960784, \"rgb(123,30,89)\"], [0.3764705882352941, \"rgb(150,27,91)\"], [0.4392156862745098, \"rgb(177,22,88)\"], [0.5019607843137255, \"rgb(203,26,79)\"], [0.5647058823529412, \"rgb(223,47,67)\"], [0.6274509803921569, \"rgb(236,76,61)\"], [0.6901960784313725, \"rgb(242,107,73)\"], [0.7529411764705882, \"rgb(244,135,95)\"], [0.8156862745098039, \"rgb(245,162,122)\"], [0.8784313725490196, \"rgb(246,188,153)\"], [0.9411764705882353, \"rgb(247,212,187)\"], [1.0, \"rgb(250,234,220)\"]]}, \"colorway\": [\"rgb(76,114,176)\", \"rgb(221,132,82)\", \"rgb(85,168,104)\", \"rgb(196,78,82)\", \"rgb(129,114,179)\", \"rgb(147,120,96)\", \"rgb(218,139,195)\", \"rgb(140,140,140)\", \"rgb(204,185,116)\", \"rgb(100,181,205)\"], \"font\": {\"color\": \"rgb(36,36,36)\"}, \"geo\": {\"bgcolor\": \"white\", \"lakecolor\": \"white\", \"landcolor\": \"rgb(234,234,242)\", \"showlakes\": true, \"showland\": true, \"subunitcolor\": \"white\"}, \"hoverlabel\": {\"align\": \"left\"}, \"hovermode\": \"closest\", \"paper_bgcolor\": \"white\", \"plot_bgcolor\": \"rgb(234,234,242)\", \"polar\": {\"angularaxis\": {\"gridcolor\": \"white\", \"linecolor\": \"white\", \"showgrid\": true, \"ticks\": \"\"}, \"bgcolor\": \"rgb(234,234,242)\", \"radialaxis\": {\"gridcolor\": \"white\", \"linecolor\": \"white\", \"showgrid\": true, \"ticks\": \"\"}}, \"scene\": {\"xaxis\": {\"backgroundcolor\": \"rgb(234,234,242)\", \"gridcolor\": \"white\", \"gridwidth\": 2, \"linecolor\": \"white\", \"showbackground\": true, \"showgrid\": true, \"ticks\": \"\", \"zerolinecolor\": \"white\"}, \"yaxis\": {\"backgroundcolor\": \"rgb(234,234,242)\", \"gridcolor\": \"white\", \"gridwidth\": 2, \"linecolor\": \"white\", \"showbackground\": true, \"showgrid\": true, \"ticks\": \"\", \"zerolinecolor\": \"white\"}, \"zaxis\": {\"backgroundcolor\": \"rgb(234,234,242)\", \"gridcolor\": \"white\", \"gridwidth\": 2, \"linecolor\": \"white\", \"showbackground\": true, \"showgrid\": true, \"ticks\": \"\", \"zerolinecolor\": \"white\"}}, \"shapedefaults\": {\"fillcolor\": \"rgb(67,103,167)\", \"line\": {\"width\": 0}, \"opacity\": 0.5}, \"ternary\": {\"aaxis\": {\"gridcolor\": \"white\", \"linecolor\": \"white\", \"showgrid\": true, \"ticks\": \"\"}, \"baxis\": {\"gridcolor\": \"white\", \"linecolor\": \"white\", \"showgrid\": true, \"ticks\": \"\"}, \"bgcolor\": \"rgb(234,234,242)\", \"caxis\": {\"gridcolor\": \"white\", \"linecolor\": \"white\", \"showgrid\": true, \"ticks\": \"\"}}, \"xaxis\": {\"automargin\": true, \"gridcolor\": \"white\", \"linecolor\": \"white\", \"showgrid\": true, \"ticks\": \"\", \"title\": {\"standoff\": 15}, \"zerolinecolor\": \"white\"}, \"yaxis\": {\"automargin\": true, \"gridcolor\": \"white\", \"linecolor\": \"white\", \"showgrid\": true, \"ticks\": \"\", \"title\": {\"standoff\": 15}, \"zerolinecolor\": \"white\"}}}, \"title\": {\"text\": \"Moderate\"}},\n",
              "                        {\"responsive\": true}\n",
              "                    ).then(function(){\n",
              "                            \n",
              "var gd = document.getElementById('6e8f8bef-6a10-4ee0-8046-0fc8fe30e120');\n",
              "var x = new MutationObserver(function (mutations, observer) {{\n",
              "        var display = window.getComputedStyle(gd).display;\n",
              "        if (!display || display === 'none') {{\n",
              "            console.log([gd, 'removed!']);\n",
              "            Plotly.purge(gd);\n",
              "            observer.disconnect();\n",
              "        }}\n",
              "}});\n",
              "\n",
              "// Listen for the removal of the full notebook cells\n",
              "var notebookContainer = gd.closest('#notebook-container');\n",
              "if (notebookContainer) {{\n",
              "    x.observe(notebookContainer, {childList: true});\n",
              "}}\n",
              "\n",
              "// Listen for the clearing of the current output cell\n",
              "var outputEl = gd.closest('.output');\n",
              "if (outputEl) {{\n",
              "    x.observe(outputEl, {childList: true});\n",
              "}}\n",
              "\n",
              "                        })\n",
              "                };\n",
              "                \n",
              "            </script>\n",
              "        </div>\n",
              "</body>\n",
              "</html>"
            ]
          },
          "metadata": {
            "tags": []
          }
        },
        {
          "output_type": "display_data",
          "data": {
            "text/html": [
              "<html>\n",
              "<head><meta charset=\"utf-8\" /></head>\n",
              "<body>\n",
              "    <div>\n",
              "            <script src=\"https://cdnjs.cloudflare.com/ajax/libs/mathjax/2.7.5/MathJax.js?config=TeX-AMS-MML_SVG\"></script><script type=\"text/javascript\">if (window.MathJax) {MathJax.Hub.Config({SVG: {font: \"STIX-Web\"}});}</script>\n",
              "                <script type=\"text/javascript\">window.PlotlyConfig = {MathJaxConfig: 'local'};</script>\n",
              "        <script src=\"https://cdn.plot.ly/plotly-latest.min.js\"></script>    \n",
              "            <div id=\"8c7128cd-1b1c-41a2-ada3-7e5d29b4567e\" class=\"plotly-graph-div\" style=\"height:525px; width:100%;\"></div>\n",
              "            <script type=\"text/javascript\">\n",
              "                \n",
              "                    window.PLOTLYENV=window.PLOTLYENV || {};\n",
              "                    \n",
              "                if (document.getElementById(\"8c7128cd-1b1c-41a2-ada3-7e5d29b4567e\")) {\n",
              "                    Plotly.newPlot(\n",
              "                        '8c7128cd-1b1c-41a2-ada3-7e5d29b4567e',\n",
              "                        [{\"hoverlabel\": {\"namelength\": 0}, \"hovertemplate\": \"Factors=%{theta}<br>FI=%{r}\", \"legendgroup\": \"Factors=meanrr\", \"marker\": {\"color\": \"#f0f921\"}, \"name\": \"Factors=meanrr\", \"r\": [1.0], \"showlegend\": true, \"subplot\": \"polar\", \"theta\": [\"meanrr\"], \"type\": \"barpolar\"}, {\"hoverlabel\": {\"namelength\": 0}, \"hovertemplate\": \"Factors=%{theta}<br>FI=%{r}\", \"legendgroup\": \"Factors=total_power\", \"marker\": {\"color\": \"#fdca26\"}, \"name\": \"Factors=total_power\", \"r\": [0.8477580813347249], \"showlegend\": true, \"subplot\": \"polar\", \"theta\": [\"total_power\"], \"type\": \"barpolar\"}, {\"hoverlabel\": {\"namelength\": 0}, \"hovertemplate\": \"Factors=%{theta}<br>FI=%{r}\", \"legendgroup\": \"Factors=vlf\", \"marker\": {\"color\": \"#fb9f3a\"}, \"name\": \"Factors=vlf\", \"r\": [0.7695516162669535], \"showlegend\": true, \"subplot\": \"polar\", \"theta\": [\"vlf\"], \"type\": \"barpolar\"}, {\"hoverlabel\": {\"namelength\": 0}, \"hovertemplate\": \"Factors=%{theta}<br>FI=%{r}\", \"legendgroup\": \"Factors=mxdmn\", \"marker\": {\"color\": \"#ed7953\"}, \"name\": \"Factors=mxdmn\", \"r\": [0.7695516162669535], \"showlegend\": true, \"subplot\": \"polar\", \"theta\": [\"mxdmn\"], \"type\": \"barpolar\"}, {\"hoverlabel\": {\"namelength\": 0}, \"hovertemplate\": \"Factors=%{theta}<br>FI=%{r}\", \"legendgroup\": \"Factors=lf\", \"marker\": {\"color\": \"#d8576b\"}, \"name\": \"Factors=lf\", \"r\": [0.7695516162669535], \"showlegend\": true, \"subplot\": \"polar\", \"theta\": [\"lf\"], \"type\": \"barpolar\"}, {\"hoverlabel\": {\"namelength\": 0}, \"hovertemplate\": \"Factors=%{theta}<br>FI=%{r}\", \"legendgroup\": \"Factors=day_after_test\", \"marker\": {\"color\": \"#bd3786\"}, \"name\": \"Factors=day_after_test\", \"r\": [0.7695516162669535], \"showlegend\": true, \"subplot\": \"polar\", \"theta\": [\"day_after_test\"], \"type\": \"barpolar\"}, {\"hoverlabel\": {\"namelength\": 0}, \"hovertemplate\": \"Factors=%{theta}<br>FI=%{r}\", \"legendgroup\": \"Factors=rmssd\", \"marker\": {\"color\": \"#9c179e\"}, \"name\": \"Factors=rmssd\", \"r\": [0.6913451511991705], \"showlegend\": true, \"subplot\": \"polar\", \"theta\": [\"rmssd\"], \"type\": \"barpolar\"}, {\"hoverlabel\": {\"namelength\": 0}, \"hovertemplate\": \"Factors=%{theta}<br>FI=%{r}\", \"legendgroup\": \"Factors=hf\", \"marker\": {\"color\": \"#7201a8\"}, \"name\": \"Factors=hf\", \"r\": [0.6173096976016706], \"showlegend\": true, \"subplot\": \"polar\", \"theta\": [\"hf\"], \"type\": \"barpolar\"}, {\"hoverlabel\": {\"namelength\": 0}, \"hovertemplate\": \"Factors=%{theta}<br>FI=%{r}\", \"legendgroup\": \"Factors=amo\", \"marker\": {\"color\": \"#46039f\"}, \"name\": \"Factors=amo\", \"r\": [0.5432742440041669], \"showlegend\": true, \"subplot\": \"polar\", \"theta\": [\"amo\"], \"type\": \"barpolar\"}, {\"hoverlabel\": {\"namelength\": 0}, \"hovertemplate\": \"Factors=%{theta}<br>FI=%{r}\", \"legendgroup\": \"Factors=rr_var\", \"marker\": {\"color\": \"#0d0887\"}, \"name\": \"Factors=rr_var\", \"r\": [0.5391032325338876], \"showlegend\": true, \"subplot\": \"polar\", \"theta\": [\"rr_var\"], \"type\": \"barpolar\"}, {\"hoverlabel\": {\"namelength\": 0}, \"hovertemplate\": \"Factors=%{theta}<br>FI=%{r}\", \"legendgroup\": \"Factors=pnn50\", \"marker\": {\"color\": \"#f0f921\"}, \"name\": \"Factors=pnn50\", \"r\": [0.5391032325338876], \"showlegend\": true, \"subplot\": \"polar\", \"theta\": [\"pnn50\"], \"type\": \"barpolar\"}, {\"hoverlabel\": {\"namelength\": 0}, \"hovertemplate\": \"Factors=%{theta}<br>FI=%{r}\", \"legendgroup\": \"Factors=rr_kurt\", \"marker\": {\"color\": \"#fdca26\"}, \"name\": \"Factors=rr_kurt\", \"r\": [0.5391032325338876], \"showlegend\": true, \"subplot\": \"polar\", \"theta\": [\"rr_kurt\"], \"type\": \"barpolar\"}, {\"hoverlabel\": {\"namelength\": 0}, \"hovertemplate\": \"Factors=%{theta}<br>FI=%{r}\", \"legendgroup\": \"Factors=rr_skew\", \"marker\": {\"color\": \"#fb9f3a\"}, \"name\": \"Factors=rr_skew\", \"r\": [0.5391032325338876], \"showlegend\": true, \"subplot\": \"polar\", \"theta\": [\"rr_skew\"], \"type\": \"barpolar\"}, {\"hoverlabel\": {\"namelength\": 0}, \"hovertemplate\": \"Factors=%{theta}<br>FI=%{r}\", \"legendgroup\": \"Factors=rr_median\", \"marker\": {\"color\": \"#ed7953\"}, \"name\": \"Factors=rr_median\", \"r\": [0.4608967674661085], \"showlegend\": true, \"subplot\": \"polar\", \"theta\": [\"rr_median\"], \"type\": \"barpolar\"}, {\"hoverlabel\": {\"namelength\": 0}, \"hovertemplate\": \"Factors=%{theta}<br>FI=%{r}\", \"legendgroup\": \"Factors=rr_IQR\", \"marker\": {\"color\": \"#d8576b\"}, \"name\": \"Factors=rr_IQR\", \"r\": [0.4608967674661085], \"showlegend\": true, \"subplot\": \"polar\", \"theta\": [\"rr_IQR\"], \"type\": \"barpolar\"}, {\"hoverlabel\": {\"namelength\": 0}, \"hovertemplate\": \"Factors=%{theta}<br>FI=%{r}\", \"legendgroup\": \"Factors=rr_max\", \"marker\": {\"color\": \"#bd3786\"}, \"name\": \"Factors=rr_max\", \"r\": [0.38686131386860867], \"showlegend\": true, \"subplot\": \"polar\", \"theta\": [\"rr_max\"], \"type\": \"barpolar\"}, {\"hoverlabel\": {\"namelength\": 0}, \"hovertemplate\": \"Factors=%{theta}<br>FI=%{r}\", \"legendgroup\": \"Factors=sdnn\", \"marker\": {\"color\": \"#9c179e\"}, \"name\": \"Factors=sdnn\", \"r\": [0.3086548488008334], \"showlegend\": true, \"subplot\": \"polar\", \"theta\": [\"sdnn\"], \"type\": \"barpolar\"}, {\"hoverlabel\": {\"namelength\": 0}, \"hovertemplate\": \"Factors=%{theta}<br>FI=%{r}\", \"legendgroup\": \"Factors=lfhf\", \"marker\": {\"color\": \"#7201a8\"}, \"name\": \"Factors=lfhf\", \"r\": [0.23044838373305426], \"showlegend\": true, \"subplot\": \"polar\", \"theta\": [\"lfhf\"], \"type\": \"barpolar\"}, {\"hoverlabel\": {\"namelength\": 0}, \"hovertemplate\": \"Factors=%{theta}<br>FI=%{r}\", \"legendgroup\": \"Factors=rr_min\", \"marker\": {\"color\": \"#46039f\"}, \"name\": \"Factors=rr_min\", \"r\": [0.23044838373305426], \"showlegend\": true, \"subplot\": \"polar\", \"theta\": [\"rr_min\"], \"type\": \"barpolar\"}, {\"hoverlabel\": {\"namelength\": 0}, \"hovertemplate\": \"Factors=%{theta}<br>FI=%{r}\", \"legendgroup\": \"Factors=bpm\", \"marker\": {\"color\": \"#0d0887\"}, \"name\": \"Factors=bpm\", \"r\": [0.07820646506777144], \"showlegend\": true, \"subplot\": \"polar\", \"theta\": [\"bpm\"], \"type\": \"barpolar\"}, {\"hoverlabel\": {\"namelength\": 0}, \"hovertemplate\": \"Factors=%{theta}<br>FI=%{r}\", \"legendgroup\": \"Factors=mode\", \"marker\": {\"color\": \"#f0f921\"}, \"name\": \"Factors=mode\", \"r\": [0.0], \"showlegend\": true, \"subplot\": \"polar\", \"theta\": [\"mode\"], \"type\": \"barpolar\"}],\n",
              "                        {\"barmode\": \"relative\", \"legend\": {\"tracegroupgap\": 0}, \"margin\": {\"t\": 60}, \"polar\": {\"angularaxis\": {\"categoryarray\": [\"meanrr\", \"total_power\", \"vlf\", \"mxdmn\", \"lf\", \"day_after_test\", \"rmssd\", \"hf\", \"amo\", \"rr_var\", \"pnn50\", \"rr_kurt\", \"rr_skew\", \"rr_median\", \"rr_IQR\", \"rr_max\", \"sdnn\", \"lfhf\", \"rr_min\", \"bpm\", \"mode\"], \"categoryorder\": \"array\", \"direction\": \"clockwise\", \"rotation\": 90}, \"domain\": {\"x\": [0.0, 1.0], \"y\": [0.0, 1.0]}}, \"template\": {\"data\": {\"bar\": [{\"error_x\": {\"color\": \"rgb(36,36,36)\"}, \"error_y\": {\"color\": \"rgb(36,36,36)\"}, \"marker\": {\"line\": {\"color\": \"rgb(234,234,242)\", \"width\": 0.5}}, \"type\": \"bar\"}], \"barpolar\": [{\"marker\": {\"line\": {\"color\": \"rgb(234,234,242)\", \"width\": 0.5}}, \"type\": \"barpolar\"}], \"carpet\": [{\"aaxis\": {\"endlinecolor\": \"rgb(36,36,36)\", \"gridcolor\": \"white\", \"linecolor\": \"white\", \"minorgridcolor\": \"white\", \"startlinecolor\": \"rgb(36,36,36)\"}, \"baxis\": {\"endlinecolor\": \"rgb(36,36,36)\", \"gridcolor\": \"white\", \"linecolor\": \"white\", \"minorgridcolor\": \"white\", \"startlinecolor\": \"rgb(36,36,36)\"}, \"type\": \"carpet\"}], \"choropleth\": [{\"colorbar\": {\"outlinewidth\": 0, \"tickcolor\": \"rgb(36,36,36)\", \"ticklen\": 8, \"ticks\": \"outside\", \"tickwidth\": 2}, \"type\": \"choropleth\"}], \"contour\": [{\"colorbar\": {\"outlinewidth\": 0, \"tickcolor\": \"rgb(36,36,36)\", \"ticklen\": 8, \"ticks\": \"outside\", \"tickwidth\": 2}, \"colorscale\": [[0.0, \"rgb(2,4,25)\"], [0.06274509803921569, \"rgb(24,15,41)\"], [0.12549019607843137, \"rgb(47,23,57)\"], [0.18823529411764706, \"rgb(71,28,72)\"], [0.25098039215686274, \"rgb(97,30,82)\"], [0.3137254901960784, \"rgb(123,30,89)\"], [0.3764705882352941, \"rgb(150,27,91)\"], [0.4392156862745098, \"rgb(177,22,88)\"], [0.5019607843137255, \"rgb(203,26,79)\"], [0.5647058823529412, \"rgb(223,47,67)\"], [0.6274509803921569, \"rgb(236,76,61)\"], [0.6901960784313725, \"rgb(242,107,73)\"], [0.7529411764705882, \"rgb(244,135,95)\"], [0.8156862745098039, \"rgb(245,162,122)\"], [0.8784313725490196, \"rgb(246,188,153)\"], [0.9411764705882353, \"rgb(247,212,187)\"], [1.0, \"rgb(250,234,220)\"]], \"type\": \"contour\"}], \"contourcarpet\": [{\"colorbar\": {\"outlinewidth\": 0, \"tickcolor\": \"rgb(36,36,36)\", \"ticklen\": 8, \"ticks\": \"outside\", \"tickwidth\": 2}, \"type\": \"contourcarpet\"}], \"heatmap\": [{\"colorbar\": {\"outlinewidth\": 0, \"tickcolor\": \"rgb(36,36,36)\", \"ticklen\": 8, \"ticks\": \"outside\", \"tickwidth\": 2}, \"colorscale\": [[0.0, \"rgb(2,4,25)\"], [0.06274509803921569, \"rgb(24,15,41)\"], [0.12549019607843137, \"rgb(47,23,57)\"], [0.18823529411764706, \"rgb(71,28,72)\"], [0.25098039215686274, \"rgb(97,30,82)\"], [0.3137254901960784, \"rgb(123,30,89)\"], [0.3764705882352941, \"rgb(150,27,91)\"], [0.4392156862745098, \"rgb(177,22,88)\"], [0.5019607843137255, \"rgb(203,26,79)\"], [0.5647058823529412, \"rgb(223,47,67)\"], [0.6274509803921569, \"rgb(236,76,61)\"], [0.6901960784313725, \"rgb(242,107,73)\"], [0.7529411764705882, \"rgb(244,135,95)\"], [0.8156862745098039, \"rgb(245,162,122)\"], [0.8784313725490196, \"rgb(246,188,153)\"], [0.9411764705882353, \"rgb(247,212,187)\"], [1.0, \"rgb(250,234,220)\"]], \"type\": \"heatmap\"}], \"heatmapgl\": [{\"colorbar\": {\"outlinewidth\": 0, \"tickcolor\": \"rgb(36,36,36)\", \"ticklen\": 8, \"ticks\": \"outside\", \"tickwidth\": 2}, \"colorscale\": [[0.0, \"rgb(2,4,25)\"], [0.06274509803921569, \"rgb(24,15,41)\"], [0.12549019607843137, \"rgb(47,23,57)\"], [0.18823529411764706, \"rgb(71,28,72)\"], [0.25098039215686274, \"rgb(97,30,82)\"], [0.3137254901960784, \"rgb(123,30,89)\"], [0.3764705882352941, \"rgb(150,27,91)\"], [0.4392156862745098, \"rgb(177,22,88)\"], [0.5019607843137255, \"rgb(203,26,79)\"], [0.5647058823529412, \"rgb(223,47,67)\"], [0.6274509803921569, \"rgb(236,76,61)\"], [0.6901960784313725, \"rgb(242,107,73)\"], [0.7529411764705882, \"rgb(244,135,95)\"], [0.8156862745098039, \"rgb(245,162,122)\"], [0.8784313725490196, \"rgb(246,188,153)\"], [0.9411764705882353, \"rgb(247,212,187)\"], [1.0, \"rgb(250,234,220)\"]], \"type\": \"heatmapgl\"}], \"histogram\": [{\"marker\": {\"colorbar\": {\"outlinewidth\": 0, \"tickcolor\": \"rgb(36,36,36)\", \"ticklen\": 8, \"ticks\": \"outside\", \"tickwidth\": 2}}, \"type\": \"histogram\"}], \"histogram2d\": [{\"colorbar\": {\"outlinewidth\": 0, \"tickcolor\": \"rgb(36,36,36)\", \"ticklen\": 8, \"ticks\": \"outside\", \"tickwidth\": 2}, \"colorscale\": [[0.0, \"rgb(2,4,25)\"], [0.06274509803921569, \"rgb(24,15,41)\"], [0.12549019607843137, \"rgb(47,23,57)\"], [0.18823529411764706, \"rgb(71,28,72)\"], [0.25098039215686274, \"rgb(97,30,82)\"], [0.3137254901960784, \"rgb(123,30,89)\"], [0.3764705882352941, \"rgb(150,27,91)\"], [0.4392156862745098, \"rgb(177,22,88)\"], [0.5019607843137255, \"rgb(203,26,79)\"], [0.5647058823529412, \"rgb(223,47,67)\"], [0.6274509803921569, \"rgb(236,76,61)\"], [0.6901960784313725, \"rgb(242,107,73)\"], [0.7529411764705882, \"rgb(244,135,95)\"], [0.8156862745098039, \"rgb(245,162,122)\"], [0.8784313725490196, \"rgb(246,188,153)\"], [0.9411764705882353, \"rgb(247,212,187)\"], [1.0, \"rgb(250,234,220)\"]], \"type\": \"histogram2d\"}], \"histogram2dcontour\": [{\"colorbar\": {\"outlinewidth\": 0, \"tickcolor\": \"rgb(36,36,36)\", \"ticklen\": 8, \"ticks\": \"outside\", \"tickwidth\": 2}, \"colorscale\": [[0.0, \"rgb(2,4,25)\"], [0.06274509803921569, \"rgb(24,15,41)\"], [0.12549019607843137, \"rgb(47,23,57)\"], [0.18823529411764706, \"rgb(71,28,72)\"], [0.25098039215686274, \"rgb(97,30,82)\"], [0.3137254901960784, \"rgb(123,30,89)\"], [0.3764705882352941, \"rgb(150,27,91)\"], [0.4392156862745098, \"rgb(177,22,88)\"], [0.5019607843137255, \"rgb(203,26,79)\"], [0.5647058823529412, \"rgb(223,47,67)\"], [0.6274509803921569, \"rgb(236,76,61)\"], [0.6901960784313725, \"rgb(242,107,73)\"], [0.7529411764705882, \"rgb(244,135,95)\"], [0.8156862745098039, \"rgb(245,162,122)\"], [0.8784313725490196, \"rgb(246,188,153)\"], [0.9411764705882353, \"rgb(247,212,187)\"], [1.0, \"rgb(250,234,220)\"]], \"type\": \"histogram2dcontour\"}], \"mesh3d\": [{\"colorbar\": {\"outlinewidth\": 0, \"tickcolor\": \"rgb(36,36,36)\", \"ticklen\": 8, \"ticks\": \"outside\", \"tickwidth\": 2}, \"type\": \"mesh3d\"}], \"parcoords\": [{\"line\": {\"colorbar\": {\"outlinewidth\": 0, \"tickcolor\": \"rgb(36,36,36)\", \"ticklen\": 8, \"ticks\": \"outside\", \"tickwidth\": 2}}, \"type\": \"parcoords\"}], \"pie\": [{\"automargin\": true, \"type\": \"pie\"}], \"scatter\": [{\"marker\": {\"colorbar\": {\"outlinewidth\": 0, \"tickcolor\": \"rgb(36,36,36)\", \"ticklen\": 8, \"ticks\": \"outside\", \"tickwidth\": 2}}, \"type\": \"scatter\"}], \"scatter3d\": [{\"line\": {\"colorbar\": {\"outlinewidth\": 0, \"tickcolor\": \"rgb(36,36,36)\", \"ticklen\": 8, \"ticks\": \"outside\", \"tickwidth\": 2}}, \"marker\": {\"colorbar\": {\"outlinewidth\": 0, \"tickcolor\": \"rgb(36,36,36)\", \"ticklen\": 8, \"ticks\": \"outside\", \"tickwidth\": 2}}, \"type\": \"scatter3d\"}], \"scattercarpet\": [{\"marker\": {\"colorbar\": {\"outlinewidth\": 0, \"tickcolor\": \"rgb(36,36,36)\", \"ticklen\": 8, \"ticks\": \"outside\", \"tickwidth\": 2}}, \"type\": \"scattercarpet\"}], \"scattergeo\": [{\"marker\": {\"colorbar\": {\"outlinewidth\": 0, \"tickcolor\": \"rgb(36,36,36)\", \"ticklen\": 8, \"ticks\": \"outside\", \"tickwidth\": 2}}, \"type\": \"scattergeo\"}], \"scattergl\": [{\"marker\": {\"colorbar\": {\"outlinewidth\": 0, \"tickcolor\": \"rgb(36,36,36)\", \"ticklen\": 8, \"ticks\": \"outside\", \"tickwidth\": 2}}, \"type\": \"scattergl\"}], \"scattermapbox\": [{\"marker\": {\"colorbar\": {\"outlinewidth\": 0, \"tickcolor\": \"rgb(36,36,36)\", \"ticklen\": 8, \"ticks\": \"outside\", \"tickwidth\": 2}}, \"type\": \"scattermapbox\"}], \"scatterpolar\": [{\"marker\": {\"colorbar\": {\"outlinewidth\": 0, \"tickcolor\": \"rgb(36,36,36)\", \"ticklen\": 8, \"ticks\": \"outside\", \"tickwidth\": 2}}, \"type\": \"scatterpolar\"}], \"scatterpolargl\": [{\"marker\": {\"colorbar\": {\"outlinewidth\": 0, \"tickcolor\": \"rgb(36,36,36)\", \"ticklen\": 8, \"ticks\": \"outside\", \"tickwidth\": 2}}, \"type\": \"scatterpolargl\"}], \"scatterternary\": [{\"marker\": {\"colorbar\": {\"outlinewidth\": 0, \"tickcolor\": \"rgb(36,36,36)\", \"ticklen\": 8, \"ticks\": \"outside\", \"tickwidth\": 2}}, \"type\": \"scatterternary\"}], \"surface\": [{\"colorbar\": {\"outlinewidth\": 0, \"tickcolor\": \"rgb(36,36,36)\", \"ticklen\": 8, \"ticks\": \"outside\", \"tickwidth\": 2}, \"colorscale\": [[0.0, \"rgb(2,4,25)\"], [0.06274509803921569, \"rgb(24,15,41)\"], [0.12549019607843137, \"rgb(47,23,57)\"], [0.18823529411764706, \"rgb(71,28,72)\"], [0.25098039215686274, \"rgb(97,30,82)\"], [0.3137254901960784, \"rgb(123,30,89)\"], [0.3764705882352941, \"rgb(150,27,91)\"], [0.4392156862745098, \"rgb(177,22,88)\"], [0.5019607843137255, \"rgb(203,26,79)\"], [0.5647058823529412, \"rgb(223,47,67)\"], [0.6274509803921569, \"rgb(236,76,61)\"], [0.6901960784313725, \"rgb(242,107,73)\"], [0.7529411764705882, \"rgb(244,135,95)\"], [0.8156862745098039, \"rgb(245,162,122)\"], [0.8784313725490196, \"rgb(246,188,153)\"], [0.9411764705882353, \"rgb(247,212,187)\"], [1.0, \"rgb(250,234,220)\"]], \"type\": \"surface\"}], \"table\": [{\"cells\": {\"fill\": {\"color\": \"rgb(231,231,240)\"}, \"line\": {\"color\": \"white\"}}, \"header\": {\"fill\": {\"color\": \"rgb(183,183,191)\"}, \"line\": {\"color\": \"white\"}}, \"type\": \"table\"}]}, \"layout\": {\"annotationdefaults\": {\"arrowcolor\": \"rgb(67,103,167)\"}, \"coloraxis\": {\"colorbar\": {\"outlinewidth\": 0, \"tickcolor\": \"rgb(36,36,36)\", \"ticklen\": 8, \"ticks\": \"outside\", \"tickwidth\": 2}}, \"colorscale\": {\"sequential\": [[0.0, \"rgb(2,4,25)\"], [0.06274509803921569, \"rgb(24,15,41)\"], [0.12549019607843137, \"rgb(47,23,57)\"], [0.18823529411764706, \"rgb(71,28,72)\"], [0.25098039215686274, \"rgb(97,30,82)\"], [0.3137254901960784, \"rgb(123,30,89)\"], [0.3764705882352941, \"rgb(150,27,91)\"], [0.4392156862745098, \"rgb(177,22,88)\"], [0.5019607843137255, \"rgb(203,26,79)\"], [0.5647058823529412, \"rgb(223,47,67)\"], [0.6274509803921569, \"rgb(236,76,61)\"], [0.6901960784313725, \"rgb(242,107,73)\"], [0.7529411764705882, \"rgb(244,135,95)\"], [0.8156862745098039, \"rgb(245,162,122)\"], [0.8784313725490196, \"rgb(246,188,153)\"], [0.9411764705882353, \"rgb(247,212,187)\"], [1.0, \"rgb(250,234,220)\"]], \"sequentialminus\": [[0.0, \"rgb(2,4,25)\"], [0.06274509803921569, \"rgb(24,15,41)\"], [0.12549019607843137, \"rgb(47,23,57)\"], [0.18823529411764706, \"rgb(71,28,72)\"], [0.25098039215686274, \"rgb(97,30,82)\"], [0.3137254901960784, \"rgb(123,30,89)\"], [0.3764705882352941, \"rgb(150,27,91)\"], [0.4392156862745098, \"rgb(177,22,88)\"], [0.5019607843137255, \"rgb(203,26,79)\"], [0.5647058823529412, \"rgb(223,47,67)\"], [0.6274509803921569, \"rgb(236,76,61)\"], [0.6901960784313725, \"rgb(242,107,73)\"], [0.7529411764705882, \"rgb(244,135,95)\"], [0.8156862745098039, \"rgb(245,162,122)\"], [0.8784313725490196, \"rgb(246,188,153)\"], [0.9411764705882353, \"rgb(247,212,187)\"], [1.0, \"rgb(250,234,220)\"]]}, \"colorway\": [\"rgb(76,114,176)\", \"rgb(221,132,82)\", \"rgb(85,168,104)\", \"rgb(196,78,82)\", \"rgb(129,114,179)\", \"rgb(147,120,96)\", \"rgb(218,139,195)\", \"rgb(140,140,140)\", \"rgb(204,185,116)\", \"rgb(100,181,205)\"], \"font\": {\"color\": \"rgb(36,36,36)\"}, \"geo\": {\"bgcolor\": \"white\", \"lakecolor\": \"white\", \"landcolor\": \"rgb(234,234,242)\", \"showlakes\": true, \"showland\": true, \"subunitcolor\": \"white\"}, \"hoverlabel\": {\"align\": \"left\"}, \"hovermode\": \"closest\", \"paper_bgcolor\": \"white\", \"plot_bgcolor\": \"rgb(234,234,242)\", \"polar\": {\"angularaxis\": {\"gridcolor\": \"white\", \"linecolor\": \"white\", \"showgrid\": true, \"ticks\": \"\"}, \"bgcolor\": \"rgb(234,234,242)\", \"radialaxis\": {\"gridcolor\": \"white\", \"linecolor\": \"white\", \"showgrid\": true, \"ticks\": \"\"}}, \"scene\": {\"xaxis\": {\"backgroundcolor\": \"rgb(234,234,242)\", \"gridcolor\": \"white\", \"gridwidth\": 2, \"linecolor\": \"white\", \"showbackground\": true, \"showgrid\": true, \"ticks\": \"\", \"zerolinecolor\": \"white\"}, \"yaxis\": {\"backgroundcolor\": \"rgb(234,234,242)\", \"gridcolor\": \"white\", \"gridwidth\": 2, \"linecolor\": \"white\", \"showbackground\": true, \"showgrid\": true, \"ticks\": \"\", \"zerolinecolor\": \"white\"}, \"zaxis\": {\"backgroundcolor\": \"rgb(234,234,242)\", \"gridcolor\": \"white\", \"gridwidth\": 2, \"linecolor\": \"white\", \"showbackground\": true, \"showgrid\": true, \"ticks\": \"\", \"zerolinecolor\": \"white\"}}, \"shapedefaults\": {\"fillcolor\": \"rgb(67,103,167)\", \"line\": {\"width\": 0}, \"opacity\": 0.5}, \"ternary\": {\"aaxis\": {\"gridcolor\": \"white\", \"linecolor\": \"white\", \"showgrid\": true, \"ticks\": \"\"}, \"baxis\": {\"gridcolor\": \"white\", \"linecolor\": \"white\", \"showgrid\": true, \"ticks\": \"\"}, \"bgcolor\": \"rgb(234,234,242)\", \"caxis\": {\"gridcolor\": \"white\", \"linecolor\": \"white\", \"showgrid\": true, \"ticks\": \"\"}}, \"xaxis\": {\"automargin\": true, \"gridcolor\": \"white\", \"linecolor\": \"white\", \"showgrid\": true, \"ticks\": \"\", \"title\": {\"standoff\": 15}, \"zerolinecolor\": \"white\"}, \"yaxis\": {\"automargin\": true, \"gridcolor\": \"white\", \"linecolor\": \"white\", \"showgrid\": true, \"ticks\": \"\", \"title\": {\"standoff\": 15}, \"zerolinecolor\": \"white\"}}}, \"title\": {\"text\": \"Severe\"}},\n",
              "                        {\"responsive\": true}\n",
              "                    ).then(function(){\n",
              "                            \n",
              "var gd = document.getElementById('8c7128cd-1b1c-41a2-ada3-7e5d29b4567e');\n",
              "var x = new MutationObserver(function (mutations, observer) {{\n",
              "        var display = window.getComputedStyle(gd).display;\n",
              "        if (!display || display === 'none') {{\n",
              "            console.log([gd, 'removed!']);\n",
              "            Plotly.purge(gd);\n",
              "            observer.disconnect();\n",
              "        }}\n",
              "}});\n",
              "\n",
              "// Listen for the removal of the full notebook cells\n",
              "var notebookContainer = gd.closest('#notebook-container');\n",
              "if (notebookContainer) {{\n",
              "    x.observe(notebookContainer, {childList: true});\n",
              "}}\n",
              "\n",
              "// Listen for the clearing of the current output cell\n",
              "var outputEl = gd.closest('.output');\n",
              "if (outputEl) {{\n",
              "    x.observe(outputEl, {childList: true});\n",
              "}}\n",
              "\n",
              "                        })\n",
              "                };\n",
              "                \n",
              "            </script>\n",
              "        </div>\n",
              "</body>\n",
              "</html>"
            ]
          },
          "metadata": {
            "tags": []
          }
        },
        {
          "output_type": "display_data",
          "data": {
            "text/html": [
              "<html>\n",
              "<head><meta charset=\"utf-8\" /></head>\n",
              "<body>\n",
              "    <div>\n",
              "            <script src=\"https://cdnjs.cloudflare.com/ajax/libs/mathjax/2.7.5/MathJax.js?config=TeX-AMS-MML_SVG\"></script><script type=\"text/javascript\">if (window.MathJax) {MathJax.Hub.Config({SVG: {font: \"STIX-Web\"}});}</script>\n",
              "                <script type=\"text/javascript\">window.PlotlyConfig = {MathJaxConfig: 'local'};</script>\n",
              "        <script src=\"https://cdn.plot.ly/plotly-latest.min.js\"></script>    \n",
              "            <div id=\"ba4fd2e1-c2a8-45d3-896a-b0bcb52dc4ca\" class=\"plotly-graph-div\" style=\"height:525px; width:100%;\"></div>\n",
              "            <script type=\"text/javascript\">\n",
              "                \n",
              "                    window.PLOTLYENV=window.PLOTLYENV || {};\n",
              "                    \n",
              "                if (document.getElementById(\"ba4fd2e1-c2a8-45d3-896a-b0bcb52dc4ca\")) {\n",
              "                    Plotly.newPlot(\n",
              "                        'ba4fd2e1-c2a8-45d3-896a-b0bcb52dc4ca',\n",
              "                        [{\"hoverlabel\": {\"namelength\": 0}, \"hovertemplate\": \"Factors=%{theta}<br>FI=%{r}\", \"legendgroup\": \"Factors=total_power\", \"marker\": {\"color\": \"#f0f921\"}, \"name\": \"Factors=total_power\", \"r\": [1.0], \"showlegend\": true, \"subplot\": \"polar\", \"theta\": [\"total_power\"], \"type\": \"barpolar\"}, {\"hoverlabel\": {\"namelength\": 0}, \"hovertemplate\": \"Factors=%{theta}<br>FI=%{r}\", \"legendgroup\": \"Factors=day_after_test\", \"marker\": {\"color\": \"#fdca26\"}, \"name\": \"Factors=day_after_test\", \"r\": [0.9689578713968885], \"showlegend\": true, \"subplot\": \"polar\", \"theta\": [\"day_after_test\"], \"type\": \"barpolar\"}, {\"hoverlabel\": {\"namelength\": 0}, \"hovertemplate\": \"Factors=%{theta}<br>FI=%{r}\", \"legendgroup\": \"Factors=hf\", \"marker\": {\"color\": \"#fb9f3a\"}, \"name\": \"Factors=hf\", \"r\": [0.6718403547671782], \"showlegend\": true, \"subplot\": \"polar\", \"theta\": [\"hf\"], \"type\": \"barpolar\"}, {\"hoverlabel\": {\"namelength\": 0}, \"hovertemplate\": \"Factors=%{theta}<br>FI=%{r}\", \"legendgroup\": \"Factors=mxdmn\", \"marker\": {\"color\": \"#ed7953\"}, \"name\": \"Factors=mxdmn\", \"r\": [0.6563192904656295], \"showlegend\": true, \"subplot\": \"polar\", \"theta\": [\"mxdmn\"], \"type\": \"barpolar\"}, {\"hoverlabel\": {\"namelength\": 0}, \"hovertemplate\": \"Factors=%{theta}<br>FI=%{r}\", \"legendgroup\": \"Factors=rr_min\", \"marker\": {\"color\": \"#d8576b\"}, \"name\": \"Factors=rr_min\", \"r\": [0.5831485587583104], \"showlegend\": true, \"subplot\": \"polar\", \"theta\": [\"rr_min\"], \"type\": \"barpolar\"}, {\"hoverlabel\": {\"namelength\": 0}, \"hovertemplate\": \"Factors=%{theta}<br>FI=%{r}\", \"legendgroup\": \"Factors=rr_var\", \"marker\": {\"color\": \"#bd3786\"}, \"name\": \"Factors=rr_var\", \"r\": [0.5676274944567616], \"showlegend\": true, \"subplot\": \"polar\", \"theta\": [\"rr_var\"], \"type\": \"barpolar\"}, {\"hoverlabel\": {\"namelength\": 0}, \"hovertemplate\": \"Factors=%{theta}<br>FI=%{r}\", \"legendgroup\": \"Factors=pnn50\", \"marker\": {\"color\": \"#9c179e\"}, \"name\": \"Factors=pnn50\", \"r\": [0.552106430155213], \"showlegend\": true, \"subplot\": \"polar\", \"theta\": [\"pnn50\"], \"type\": \"barpolar\"}, {\"hoverlabel\": {\"namelength\": 0}, \"hovertemplate\": \"Factors=%{theta}<br>FI=%{r}\", \"legendgroup\": \"Factors=rr_kurt\", \"marker\": {\"color\": \"#7201a8\"}, \"name\": \"Factors=rr_kurt\", \"r\": [0.552106430155213], \"showlegend\": true, \"subplot\": \"polar\", \"theta\": [\"rr_kurt\"], \"type\": \"barpolar\"}, {\"hoverlabel\": {\"namelength\": 0}, \"hovertemplate\": \"Factors=%{theta}<br>FI=%{r}\", \"legendgroup\": \"Factors=lfhf\", \"marker\": {\"color\": \"#46039f\"}, \"name\": \"Factors=lfhf\", \"r\": [0.4634146341463451], \"showlegend\": true, \"subplot\": \"polar\", \"theta\": [\"lfhf\"], \"type\": \"barpolar\"}, {\"hoverlabel\": {\"namelength\": 0}, \"hovertemplate\": \"Factors=%{theta}<br>FI=%{r}\", \"legendgroup\": \"Factors=rr_IQR\", \"marker\": {\"color\": \"#0d0887\"}, \"name\": \"Factors=rr_IQR\", \"r\": [0.44789356984478707], \"showlegend\": true, \"subplot\": \"polar\", \"theta\": [\"rr_IQR\"], \"type\": \"barpolar\"}, {\"hoverlabel\": {\"namelength\": 0}, \"hovertemplate\": \"Factors=%{theta}<br>FI=%{r}\", \"legendgroup\": \"Factors=rmssd\", \"marker\": {\"color\": \"#f0f921\"}, \"name\": \"Factors=rmssd\", \"r\": [0.4323725055432477], \"showlegend\": true, \"subplot\": \"polar\", \"theta\": [\"rmssd\"], \"type\": \"barpolar\"}, {\"hoverlabel\": {\"namelength\": 0}, \"hovertemplate\": \"Factors=%{theta}<br>FI=%{r}\", \"legendgroup\": \"Factors=rr_skew\", \"marker\": {\"color\": \"#fdca26\"}, \"name\": \"Factors=rr_skew\", \"r\": [0.35920177383592855], \"showlegend\": true, \"subplot\": \"polar\", \"theta\": [\"rr_skew\"], \"type\": \"barpolar\"}, {\"hoverlabel\": {\"namelength\": 0}, \"hovertemplate\": \"Factors=%{theta}<br>FI=%{r}\", \"legendgroup\": \"Factors=rr_max\", \"marker\": {\"color\": \"#fb9f3a\"}, \"name\": \"Factors=rr_max\", \"r\": [0.34368070953436114], \"showlegend\": true, \"subplot\": \"polar\", \"theta\": [\"rr_max\"], \"type\": \"barpolar\"}, {\"hoverlabel\": {\"namelength\": 0}, \"hovertemplate\": \"Factors=%{theta}<br>FI=%{r}\", \"legendgroup\": \"Factors=meanrr\", \"marker\": {\"color\": \"#ed7953\"}, \"name\": \"Factors=meanrr\", \"r\": [0.3281596452328171], \"showlegend\": true, \"subplot\": \"polar\", \"theta\": [\"meanrr\"], \"type\": \"barpolar\"}, {\"hoverlabel\": {\"namelength\": 0}, \"hovertemplate\": \"Factors=%{theta}<br>FI=%{r}\", \"legendgroup\": \"Factors=bpm\", \"marker\": {\"color\": \"#d8576b\"}, \"name\": \"Factors=bpm\", \"r\": [0.2549889135255026], \"showlegend\": true, \"subplot\": \"polar\", \"theta\": [\"bpm\"], \"type\": \"barpolar\"}, {\"hoverlabel\": {\"namelength\": 0}, \"hovertemplate\": \"Factors=%{theta}<br>FI=%{r}\", \"legendgroup\": \"Factors=amo\", \"marker\": {\"color\": \"#bd3786\"}, \"name\": \"Factors=amo\", \"r\": [0.2549889135255026], \"showlegend\": true, \"subplot\": \"polar\", \"theta\": [\"amo\"], \"type\": \"barpolar\"}, {\"hoverlabel\": {\"namelength\": 0}, \"hovertemplate\": \"Factors=%{theta}<br>FI=%{r}\", \"legendgroup\": \"Factors=lf\", \"marker\": {\"color\": \"#9c179e\"}, \"name\": \"Factors=lf\", \"r\": [0.23946784922394457], \"showlegend\": true, \"subplot\": \"polar\", \"theta\": [\"lf\"], \"type\": \"barpolar\"}, {\"hoverlabel\": {\"namelength\": 0}, \"hovertemplate\": \"Factors=%{theta}<br>FI=%{r}\", \"legendgroup\": \"Factors=mode\", \"marker\": {\"color\": \"#7201a8\"}, \"name\": \"Factors=mode\", \"r\": [0.23946784922394457], \"showlegend\": true, \"subplot\": \"polar\", \"theta\": [\"mode\"], \"type\": \"barpolar\"}, {\"hoverlabel\": {\"namelength\": 0}, \"hovertemplate\": \"Factors=%{theta}<br>FI=%{r}\", \"legendgroup\": \"Factors=sdnn\", \"marker\": {\"color\": \"#46039f\"}, \"name\": \"Factors=sdnn\", \"r\": [0.11973392461196995], \"showlegend\": true, \"subplot\": \"polar\", \"theta\": [\"sdnn\"], \"type\": \"barpolar\"}, {\"hoverlabel\": {\"namelength\": 0}, \"hovertemplate\": \"Factors=%{theta}<br>FI=%{r}\", \"legendgroup\": \"Factors=rr_median\", \"marker\": {\"color\": \"#0d0887\"}, \"name\": \"Factors=rr_median\", \"r\": [0.11973392461196995], \"showlegend\": true, \"subplot\": \"polar\", \"theta\": [\"rr_median\"], \"type\": \"barpolar\"}, {\"hoverlabel\": {\"namelength\": 0}, \"hovertemplate\": \"Factors=%{theta}<br>FI=%{r}\", \"legendgroup\": \"Factors=vlf\", \"marker\": {\"color\": \"#f0f921\"}, \"name\": \"Factors=vlf\", \"r\": [0.0], \"showlegend\": true, \"subplot\": \"polar\", \"theta\": [\"vlf\"], \"type\": \"barpolar\"}],\n",
              "                        {\"barmode\": \"relative\", \"legend\": {\"tracegroupgap\": 0}, \"margin\": {\"t\": 60}, \"polar\": {\"angularaxis\": {\"categoryarray\": [\"total_power\", \"day_after_test\", \"hf\", \"mxdmn\", \"rr_min\", \"rr_var\", \"pnn50\", \"rr_kurt\", \"lfhf\", \"rr_IQR\", \"rmssd\", \"rr_skew\", \"rr_max\", \"meanrr\", \"bpm\", \"amo\", \"lf\", \"mode\", \"sdnn\", \"rr_median\", \"vlf\"], \"categoryorder\": \"array\", \"direction\": \"clockwise\", \"rotation\": 90}, \"domain\": {\"x\": [0.0, 1.0], \"y\": [0.0, 1.0]}}, \"template\": {\"data\": {\"bar\": [{\"error_x\": {\"color\": \"rgb(36,36,36)\"}, \"error_y\": {\"color\": \"rgb(36,36,36)\"}, \"marker\": {\"line\": {\"color\": \"rgb(234,234,242)\", \"width\": 0.5}}, \"type\": \"bar\"}], \"barpolar\": [{\"marker\": {\"line\": {\"color\": \"rgb(234,234,242)\", \"width\": 0.5}}, \"type\": \"barpolar\"}], \"carpet\": [{\"aaxis\": {\"endlinecolor\": \"rgb(36,36,36)\", \"gridcolor\": \"white\", \"linecolor\": \"white\", \"minorgridcolor\": \"white\", \"startlinecolor\": \"rgb(36,36,36)\"}, \"baxis\": {\"endlinecolor\": \"rgb(36,36,36)\", \"gridcolor\": \"white\", \"linecolor\": \"white\", \"minorgridcolor\": \"white\", \"startlinecolor\": \"rgb(36,36,36)\"}, \"type\": \"carpet\"}], \"choropleth\": [{\"colorbar\": {\"outlinewidth\": 0, \"tickcolor\": \"rgb(36,36,36)\", \"ticklen\": 8, \"ticks\": \"outside\", \"tickwidth\": 2}, \"type\": \"choropleth\"}], \"contour\": [{\"colorbar\": {\"outlinewidth\": 0, \"tickcolor\": \"rgb(36,36,36)\", \"ticklen\": 8, \"ticks\": \"outside\", \"tickwidth\": 2}, \"colorscale\": [[0.0, \"rgb(2,4,25)\"], [0.06274509803921569, \"rgb(24,15,41)\"], [0.12549019607843137, \"rgb(47,23,57)\"], [0.18823529411764706, \"rgb(71,28,72)\"], [0.25098039215686274, \"rgb(97,30,82)\"], [0.3137254901960784, \"rgb(123,30,89)\"], [0.3764705882352941, \"rgb(150,27,91)\"], [0.4392156862745098, \"rgb(177,22,88)\"], [0.5019607843137255, \"rgb(203,26,79)\"], [0.5647058823529412, \"rgb(223,47,67)\"], [0.6274509803921569, \"rgb(236,76,61)\"], [0.6901960784313725, \"rgb(242,107,73)\"], [0.7529411764705882, \"rgb(244,135,95)\"], [0.8156862745098039, \"rgb(245,162,122)\"], [0.8784313725490196, \"rgb(246,188,153)\"], [0.9411764705882353, \"rgb(247,212,187)\"], [1.0, \"rgb(250,234,220)\"]], \"type\": \"contour\"}], \"contourcarpet\": [{\"colorbar\": {\"outlinewidth\": 0, \"tickcolor\": \"rgb(36,36,36)\", \"ticklen\": 8, \"ticks\": \"outside\", \"tickwidth\": 2}, \"type\": \"contourcarpet\"}], \"heatmap\": [{\"colorbar\": {\"outlinewidth\": 0, \"tickcolor\": \"rgb(36,36,36)\", \"ticklen\": 8, \"ticks\": \"outside\", \"tickwidth\": 2}, \"colorscale\": [[0.0, \"rgb(2,4,25)\"], [0.06274509803921569, \"rgb(24,15,41)\"], [0.12549019607843137, \"rgb(47,23,57)\"], [0.18823529411764706, \"rgb(71,28,72)\"], [0.25098039215686274, \"rgb(97,30,82)\"], [0.3137254901960784, \"rgb(123,30,89)\"], [0.3764705882352941, \"rgb(150,27,91)\"], [0.4392156862745098, \"rgb(177,22,88)\"], [0.5019607843137255, \"rgb(203,26,79)\"], [0.5647058823529412, \"rgb(223,47,67)\"], [0.6274509803921569, \"rgb(236,76,61)\"], [0.6901960784313725, \"rgb(242,107,73)\"], [0.7529411764705882, \"rgb(244,135,95)\"], [0.8156862745098039, \"rgb(245,162,122)\"], [0.8784313725490196, \"rgb(246,188,153)\"], [0.9411764705882353, \"rgb(247,212,187)\"], [1.0, \"rgb(250,234,220)\"]], \"type\": \"heatmap\"}], \"heatmapgl\": [{\"colorbar\": {\"outlinewidth\": 0, \"tickcolor\": \"rgb(36,36,36)\", \"ticklen\": 8, \"ticks\": \"outside\", \"tickwidth\": 2}, \"colorscale\": [[0.0, \"rgb(2,4,25)\"], [0.06274509803921569, \"rgb(24,15,41)\"], [0.12549019607843137, \"rgb(47,23,57)\"], [0.18823529411764706, \"rgb(71,28,72)\"], [0.25098039215686274, \"rgb(97,30,82)\"], [0.3137254901960784, \"rgb(123,30,89)\"], [0.3764705882352941, \"rgb(150,27,91)\"], [0.4392156862745098, \"rgb(177,22,88)\"], [0.5019607843137255, \"rgb(203,26,79)\"], [0.5647058823529412, \"rgb(223,47,67)\"], [0.6274509803921569, \"rgb(236,76,61)\"], [0.6901960784313725, \"rgb(242,107,73)\"], [0.7529411764705882, \"rgb(244,135,95)\"], [0.8156862745098039, \"rgb(245,162,122)\"], [0.8784313725490196, \"rgb(246,188,153)\"], [0.9411764705882353, \"rgb(247,212,187)\"], [1.0, \"rgb(250,234,220)\"]], \"type\": \"heatmapgl\"}], \"histogram\": [{\"marker\": {\"colorbar\": {\"outlinewidth\": 0, \"tickcolor\": \"rgb(36,36,36)\", \"ticklen\": 8, \"ticks\": \"outside\", \"tickwidth\": 2}}, \"type\": \"histogram\"}], \"histogram2d\": [{\"colorbar\": {\"outlinewidth\": 0, \"tickcolor\": \"rgb(36,36,36)\", \"ticklen\": 8, \"ticks\": \"outside\", \"tickwidth\": 2}, \"colorscale\": [[0.0, \"rgb(2,4,25)\"], [0.06274509803921569, \"rgb(24,15,41)\"], [0.12549019607843137, \"rgb(47,23,57)\"], [0.18823529411764706, \"rgb(71,28,72)\"], [0.25098039215686274, \"rgb(97,30,82)\"], [0.3137254901960784, \"rgb(123,30,89)\"], [0.3764705882352941, \"rgb(150,27,91)\"], [0.4392156862745098, \"rgb(177,22,88)\"], [0.5019607843137255, \"rgb(203,26,79)\"], [0.5647058823529412, \"rgb(223,47,67)\"], [0.6274509803921569, \"rgb(236,76,61)\"], [0.6901960784313725, \"rgb(242,107,73)\"], [0.7529411764705882, \"rgb(244,135,95)\"], [0.8156862745098039, \"rgb(245,162,122)\"], [0.8784313725490196, \"rgb(246,188,153)\"], [0.9411764705882353, \"rgb(247,212,187)\"], [1.0, \"rgb(250,234,220)\"]], \"type\": \"histogram2d\"}], \"histogram2dcontour\": [{\"colorbar\": {\"outlinewidth\": 0, \"tickcolor\": \"rgb(36,36,36)\", \"ticklen\": 8, \"ticks\": \"outside\", \"tickwidth\": 2}, \"colorscale\": [[0.0, \"rgb(2,4,25)\"], [0.06274509803921569, \"rgb(24,15,41)\"], [0.12549019607843137, \"rgb(47,23,57)\"], [0.18823529411764706, \"rgb(71,28,72)\"], [0.25098039215686274, \"rgb(97,30,82)\"], [0.3137254901960784, \"rgb(123,30,89)\"], [0.3764705882352941, \"rgb(150,27,91)\"], [0.4392156862745098, \"rgb(177,22,88)\"], [0.5019607843137255, \"rgb(203,26,79)\"], [0.5647058823529412, \"rgb(223,47,67)\"], [0.6274509803921569, \"rgb(236,76,61)\"], [0.6901960784313725, \"rgb(242,107,73)\"], [0.7529411764705882, \"rgb(244,135,95)\"], [0.8156862745098039, \"rgb(245,162,122)\"], [0.8784313725490196, \"rgb(246,188,153)\"], [0.9411764705882353, \"rgb(247,212,187)\"], [1.0, \"rgb(250,234,220)\"]], \"type\": \"histogram2dcontour\"}], \"mesh3d\": [{\"colorbar\": {\"outlinewidth\": 0, \"tickcolor\": \"rgb(36,36,36)\", \"ticklen\": 8, \"ticks\": \"outside\", \"tickwidth\": 2}, \"type\": \"mesh3d\"}], \"parcoords\": [{\"line\": {\"colorbar\": {\"outlinewidth\": 0, \"tickcolor\": \"rgb(36,36,36)\", \"ticklen\": 8, \"ticks\": \"outside\", \"tickwidth\": 2}}, \"type\": \"parcoords\"}], \"pie\": [{\"automargin\": true, \"type\": \"pie\"}], \"scatter\": [{\"marker\": {\"colorbar\": {\"outlinewidth\": 0, \"tickcolor\": \"rgb(36,36,36)\", \"ticklen\": 8, \"ticks\": \"outside\", \"tickwidth\": 2}}, \"type\": \"scatter\"}], \"scatter3d\": [{\"line\": {\"colorbar\": {\"outlinewidth\": 0, \"tickcolor\": \"rgb(36,36,36)\", \"ticklen\": 8, \"ticks\": \"outside\", \"tickwidth\": 2}}, \"marker\": {\"colorbar\": {\"outlinewidth\": 0, \"tickcolor\": \"rgb(36,36,36)\", \"ticklen\": 8, \"ticks\": \"outside\", \"tickwidth\": 2}}, \"type\": \"scatter3d\"}], \"scattercarpet\": [{\"marker\": {\"colorbar\": {\"outlinewidth\": 0, \"tickcolor\": \"rgb(36,36,36)\", \"ticklen\": 8, \"ticks\": \"outside\", \"tickwidth\": 2}}, \"type\": \"scattercarpet\"}], \"scattergeo\": [{\"marker\": {\"colorbar\": {\"outlinewidth\": 0, \"tickcolor\": \"rgb(36,36,36)\", \"ticklen\": 8, \"ticks\": \"outside\", \"tickwidth\": 2}}, \"type\": \"scattergeo\"}], \"scattergl\": [{\"marker\": {\"colorbar\": {\"outlinewidth\": 0, \"tickcolor\": \"rgb(36,36,36)\", \"ticklen\": 8, \"ticks\": \"outside\", \"tickwidth\": 2}}, \"type\": \"scattergl\"}], \"scattermapbox\": [{\"marker\": {\"colorbar\": {\"outlinewidth\": 0, \"tickcolor\": \"rgb(36,36,36)\", \"ticklen\": 8, \"ticks\": \"outside\", \"tickwidth\": 2}}, \"type\": \"scattermapbox\"}], \"scatterpolar\": [{\"marker\": {\"colorbar\": {\"outlinewidth\": 0, \"tickcolor\": \"rgb(36,36,36)\", \"ticklen\": 8, \"ticks\": \"outside\", \"tickwidth\": 2}}, \"type\": \"scatterpolar\"}], \"scatterpolargl\": [{\"marker\": {\"colorbar\": {\"outlinewidth\": 0, \"tickcolor\": \"rgb(36,36,36)\", \"ticklen\": 8, \"ticks\": \"outside\", \"tickwidth\": 2}}, \"type\": \"scatterpolargl\"}], \"scatterternary\": [{\"marker\": {\"colorbar\": {\"outlinewidth\": 0, \"tickcolor\": \"rgb(36,36,36)\", \"ticklen\": 8, \"ticks\": \"outside\", \"tickwidth\": 2}}, \"type\": \"scatterternary\"}], \"surface\": [{\"colorbar\": {\"outlinewidth\": 0, \"tickcolor\": \"rgb(36,36,36)\", \"ticklen\": 8, \"ticks\": \"outside\", \"tickwidth\": 2}, \"colorscale\": [[0.0, \"rgb(2,4,25)\"], [0.06274509803921569, \"rgb(24,15,41)\"], [0.12549019607843137, \"rgb(47,23,57)\"], [0.18823529411764706, \"rgb(71,28,72)\"], [0.25098039215686274, \"rgb(97,30,82)\"], [0.3137254901960784, \"rgb(123,30,89)\"], [0.3764705882352941, \"rgb(150,27,91)\"], [0.4392156862745098, \"rgb(177,22,88)\"], [0.5019607843137255, \"rgb(203,26,79)\"], [0.5647058823529412, \"rgb(223,47,67)\"], [0.6274509803921569, \"rgb(236,76,61)\"], [0.6901960784313725, \"rgb(242,107,73)\"], [0.7529411764705882, \"rgb(244,135,95)\"], [0.8156862745098039, \"rgb(245,162,122)\"], [0.8784313725490196, \"rgb(246,188,153)\"], [0.9411764705882353, \"rgb(247,212,187)\"], [1.0, \"rgb(250,234,220)\"]], \"type\": \"surface\"}], \"table\": [{\"cells\": {\"fill\": {\"color\": \"rgb(231,231,240)\"}, \"line\": {\"color\": \"white\"}}, \"header\": {\"fill\": {\"color\": \"rgb(183,183,191)\"}, \"line\": {\"color\": \"white\"}}, \"type\": \"table\"}]}, \"layout\": {\"annotationdefaults\": {\"arrowcolor\": \"rgb(67,103,167)\"}, \"coloraxis\": {\"colorbar\": {\"outlinewidth\": 0, \"tickcolor\": \"rgb(36,36,36)\", \"ticklen\": 8, \"ticks\": \"outside\", \"tickwidth\": 2}}, \"colorscale\": {\"sequential\": [[0.0, \"rgb(2,4,25)\"], [0.06274509803921569, \"rgb(24,15,41)\"], [0.12549019607843137, \"rgb(47,23,57)\"], [0.18823529411764706, \"rgb(71,28,72)\"], [0.25098039215686274, \"rgb(97,30,82)\"], [0.3137254901960784, \"rgb(123,30,89)\"], [0.3764705882352941, \"rgb(150,27,91)\"], [0.4392156862745098, \"rgb(177,22,88)\"], [0.5019607843137255, \"rgb(203,26,79)\"], [0.5647058823529412, \"rgb(223,47,67)\"], [0.6274509803921569, \"rgb(236,76,61)\"], [0.6901960784313725, \"rgb(242,107,73)\"], [0.7529411764705882, \"rgb(244,135,95)\"], [0.8156862745098039, \"rgb(245,162,122)\"], [0.8784313725490196, \"rgb(246,188,153)\"], [0.9411764705882353, \"rgb(247,212,187)\"], [1.0, \"rgb(250,234,220)\"]], \"sequentialminus\": [[0.0, \"rgb(2,4,25)\"], [0.06274509803921569, \"rgb(24,15,41)\"], [0.12549019607843137, \"rgb(47,23,57)\"], [0.18823529411764706, \"rgb(71,28,72)\"], [0.25098039215686274, \"rgb(97,30,82)\"], [0.3137254901960784, \"rgb(123,30,89)\"], [0.3764705882352941, \"rgb(150,27,91)\"], [0.4392156862745098, \"rgb(177,22,88)\"], [0.5019607843137255, \"rgb(203,26,79)\"], [0.5647058823529412, \"rgb(223,47,67)\"], [0.6274509803921569, \"rgb(236,76,61)\"], [0.6901960784313725, \"rgb(242,107,73)\"], [0.7529411764705882, \"rgb(244,135,95)\"], [0.8156862745098039, \"rgb(245,162,122)\"], [0.8784313725490196, \"rgb(246,188,153)\"], [0.9411764705882353, \"rgb(247,212,187)\"], [1.0, \"rgb(250,234,220)\"]]}, \"colorway\": [\"rgb(76,114,176)\", \"rgb(221,132,82)\", \"rgb(85,168,104)\", \"rgb(196,78,82)\", \"rgb(129,114,179)\", \"rgb(147,120,96)\", \"rgb(218,139,195)\", \"rgb(140,140,140)\", \"rgb(204,185,116)\", \"rgb(100,181,205)\"], \"font\": {\"color\": \"rgb(36,36,36)\"}, \"geo\": {\"bgcolor\": \"white\", \"lakecolor\": \"white\", \"landcolor\": \"rgb(234,234,242)\", \"showlakes\": true, \"showland\": true, \"subunitcolor\": \"white\"}, \"hoverlabel\": {\"align\": \"left\"}, \"hovermode\": \"closest\", \"paper_bgcolor\": \"white\", \"plot_bgcolor\": \"rgb(234,234,242)\", \"polar\": {\"angularaxis\": {\"gridcolor\": \"white\", \"linecolor\": \"white\", \"showgrid\": true, \"ticks\": \"\"}, \"bgcolor\": \"rgb(234,234,242)\", \"radialaxis\": {\"gridcolor\": \"white\", \"linecolor\": \"white\", \"showgrid\": true, \"ticks\": \"\"}}, \"scene\": {\"xaxis\": {\"backgroundcolor\": \"rgb(234,234,242)\", \"gridcolor\": \"white\", \"gridwidth\": 2, \"linecolor\": \"white\", \"showbackground\": true, \"showgrid\": true, \"ticks\": \"\", \"zerolinecolor\": \"white\"}, \"yaxis\": {\"backgroundcolor\": \"rgb(234,234,242)\", \"gridcolor\": \"white\", \"gridwidth\": 2, \"linecolor\": \"white\", \"showbackground\": true, \"showgrid\": true, \"ticks\": \"\", \"zerolinecolor\": \"white\"}, \"zaxis\": {\"backgroundcolor\": \"rgb(234,234,242)\", \"gridcolor\": \"white\", \"gridwidth\": 2, \"linecolor\": \"white\", \"showbackground\": true, \"showgrid\": true, \"ticks\": \"\", \"zerolinecolor\": \"white\"}}, \"shapedefaults\": {\"fillcolor\": \"rgb(67,103,167)\", \"line\": {\"width\": 0}, \"opacity\": 0.5}, \"ternary\": {\"aaxis\": {\"gridcolor\": \"white\", \"linecolor\": \"white\", \"showgrid\": true, \"ticks\": \"\"}, \"baxis\": {\"gridcolor\": \"white\", \"linecolor\": \"white\", \"showgrid\": true, \"ticks\": \"\"}, \"bgcolor\": \"rgb(234,234,242)\", \"caxis\": {\"gridcolor\": \"white\", \"linecolor\": \"white\", \"showgrid\": true, \"ticks\": \"\"}}, \"xaxis\": {\"automargin\": true, \"gridcolor\": \"white\", \"linecolor\": \"white\", \"showgrid\": true, \"ticks\": \"\", \"title\": {\"standoff\": 15}, \"zerolinecolor\": \"white\"}, \"yaxis\": {\"automargin\": true, \"gridcolor\": \"white\", \"linecolor\": \"white\", \"showgrid\": true, \"ticks\": \"\", \"title\": {\"standoff\": 15}, \"zerolinecolor\": \"white\"}}}, \"title\": {\"text\": \"Recovery\"}},\n",
              "                        {\"responsive\": true}\n",
              "                    ).then(function(){\n",
              "                            \n",
              "var gd = document.getElementById('ba4fd2e1-c2a8-45d3-896a-b0bcb52dc4ca');\n",
              "var x = new MutationObserver(function (mutations, observer) {{\n",
              "        var display = window.getComputedStyle(gd).display;\n",
              "        if (!display || display === 'none') {{\n",
              "            console.log([gd, 'removed!']);\n",
              "            Plotly.purge(gd);\n",
              "            observer.disconnect();\n",
              "        }}\n",
              "}});\n",
              "\n",
              "// Listen for the removal of the full notebook cells\n",
              "var notebookContainer = gd.closest('#notebook-container');\n",
              "if (notebookContainer) {{\n",
              "    x.observe(notebookContainer, {childList: true});\n",
              "}}\n",
              "\n",
              "// Listen for the clearing of the current output cell\n",
              "var outputEl = gd.closest('.output');\n",
              "if (outputEl) {{\n",
              "    x.observe(outputEl, {childList: true});\n",
              "}}\n",
              "\n",
              "                        })\n",
              "                };\n",
              "                \n",
              "            </script>\n",
              "        </div>\n",
              "</body>\n",
              "</html>"
            ]
          },
          "metadata": {
            "tags": []
          }
        }
      ]
    }
  ]
}